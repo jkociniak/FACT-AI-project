{
 "cells": [
  {
   "cell_type": "code",
   "execution_count": 1,
   "metadata": {},
   "outputs": [
    {
     "name": "stderr",
     "output_type": "stream",
     "text": [
      "/home/job/miniconda3/envs/karate/lib/python3.10/site-packages/tqdm/auto.py:22: TqdmWarning: IProgress not found. Please update jupyter and ipywidgets. See https://ipywidgets.readthedocs.io/en/stable/user_install.html\n",
      "  from .autonotebook import tqdm as notebook_tqdm\n"
     ]
    }
   ],
   "source": [
    "import numpy as np\n",
    "import networkx as nx\n",
    "from karateclub import DeepWalk, LabelPropagation"
   ]
  },
  {
   "cell_type": "code",
   "execution_count": 2,
   "metadata": {},
   "outputs": [
    {
     "data": {
      "text/plain": [
       "(500, 3668)"
      ]
     },
     "execution_count": 2,
     "metadata": {},
     "output_type": "execute_result"
    }
   ],
   "source": [
    "with open(\"./data/synthetic_n500_Pred0.7_Phom0.025_Phet0.001.attr\") as f:\n",
    "    \n",
    "    attr = {int(x.split(' ')[0])-1: int(x.split(' ')[1]) for x in f.read().strip().split('\\n')}\n",
    "    \n",
    "with open(\"./data/synthetic_n500_Pred0.7_Phom0.025_Phet0.001.links\") as f:\n",
    "    \n",
    "    links = [[int(x.split(' ')[0])-1, int(x.split(' ')[1])-1] for x in f.read().strip().split('\\n')]\n",
    "    \n",
    "len(attr), len(links)"
   ]
  },
  {
   "cell_type": "code",
   "execution_count": 3,
   "metadata": {},
   "outputs": [],
   "source": [
    "graph_synth2 = nx.Graph()\n",
    "graph_synth2.add_nodes_from(attr)\n",
    "graph_synth2.add_edges_from(links)"
   ]
  },
  {
   "cell_type": "code",
   "execution_count": 4,
   "metadata": {},
   "outputs": [],
   "source": [
    "model = DeepWalk()\n",
    "model.fit(graph_synth2)\n",
    "embed_synth2_karateclub = model.get_embedding()"
   ]
  },
  {
   "cell_type": "code",
   "execution_count": 5,
   "metadata": {},
   "outputs": [],
   "source": [
    "embed_synth2_Perozzi = np.genfromtxt(\"embeddings/synth2_Perozzi.embeddings\", dtype=np.single, skip_header=1, usecols=np.arange(1,64))\n",
    "IDs_synth2_Perozzi = np.genfromtxt(\"embeddings/synth2_Perozzi.embeddings\", dtype=np.uintc, skip_header=1, usecols=[0])"
   ]
  },
  {
   "cell_type": "code",
   "execution_count": 6,
   "metadata": {},
   "outputs": [
    {
     "data": {
      "text/plain": [
       "((500, 128), (497, 63))"
      ]
     },
     "execution_count": 6,
     "metadata": {},
     "output_type": "execute_result"
    }
   ],
   "source": [
    "embed_synth2_karateclub.shape, embed_synth2_Perozzi.shape"
   ]
  },
  {
   "cell_type": "code",
   "execution_count": null,
   "metadata": {},
   "outputs": [],
   "source": []
  }
 ],
 "metadata": {
  "kernelspec": {
   "display_name": "karate",
   "language": "python",
   "name": "python3"
  },
  "language_info": {
   "codemirror_mode": {
    "name": "ipython",
    "version": 3
   },
   "file_extension": ".py",
   "mimetype": "text/x-python",
   "name": "python",
   "nbconvert_exporter": "python",
   "pygments_lexer": "ipython3",
   "version": "3.10.8"
  },
  "orig_nbformat": 4,
  "vscode": {
   "interpreter": {
    "hash": "004704e42d79ced63795043d89add8ae96304b2a7499c0b7ffed044fe8a1d5bb"
   }
  }
 },
 "nbformat": 4,
 "nbformat_minor": 2
}
