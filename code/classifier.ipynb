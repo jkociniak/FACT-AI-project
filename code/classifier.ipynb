{
 "cells": [
  {
   "attachments": {},
   "cell_type": "markdown",
   "metadata": {},
   "source": [
    "### What:\n",
    "\n",
    "Trying to get node classification with deepwalk+Label Propagation to work\n",
    "\n",
    "### TODO:\n",
    "\n",
    "- improve documentation/comments\n",
    "- add train and test split to actually test performance for classiying\n",
    "    - follow the authors code for the split. See main.py in the 'classifier' folder\n",
    "        - same splits and hyperparameters\n",
    "    - add code for LabelPropagation() to perform the task\n",
    "- compare Perozzis embeddings with karateclub\n",
    "    - make their shapes compatible"
   ]
  },
  {
   "cell_type": "code",
   "execution_count": 19,
   "metadata": {},
   "outputs": [],
   "source": [
    "import numpy as np\n",
    "import networkx as nx\n",
    "from karateclub import LabelPropagation\n",
    "from sklearn.neighbors import NearestNeighbors\n",
    "import embed_utils\n",
    "from sklearn.model_selection import train_test_split\n",
    "from copy import deepcopy\n",
    "from collections import Counter"
   ]
  },
  {
   "cell_type": "code",
   "execution_count": 28,
   "metadata": {},
   "outputs": [],
   "source": [
    "import random\n",
    "import networkx as nx\n",
    "from typing import Dict\n",
    "from karateclub.estimator import Estimator\n",
    "\n",
    "\n",
    "class MyLabelPropagation(Estimator):\n",
    "    r\"\"\"An implementation of `\"Label Propagation Clustering\" <https://arxiv.org/abs/0709.2938>`_\n",
    "    from the Physical Review '07 paper \"Near Linear Time Algorithm to Detect Community Structures\n",
    "    in Large-Scale Networks\". The tool executes a series of label propagations with unique labels.\n",
    "    The final labels are used as cluster memberships.\n",
    "    Args:\n",
    "        seed (int): Random seed. Default is 42.\n",
    "        iterations (int): Propagation iterations. Default is 100.\n",
    "    \"\"\"\n",
    "\n",
    "    def __init__(self, seed: int = 42, iterations: int = 7):\n",
    "        self.seed = seed\n",
    "        self.iterations = iterations\n",
    "\n",
    "    def _make_a_pick(self, neighbors):\n",
    "        \"\"\"\n",
    "        Choosing a neighbor from a propagation source node.\n",
    "        Arg types:\n",
    "            * **neigbours** *(list)* - Neighbouring nodes.\n",
    "        \"\"\"\n",
    "        scores = {}\n",
    "        for neighbor in neighbors:\n",
    "            neighbor_label = self._labels[neighbor]\n",
    "            if neighbor_label in scores.keys():\n",
    "                scores[neighbor_label] = scores[neighbor_label] + 1\n",
    "            else:\n",
    "                scores[neighbor_label] = 1\n",
    "\n",
    "        top = [key for key, val in scores.items() if val == max(scores.values())]\n",
    "        return random.sample(top, 1)\n",
    "\n",
    "    def _do_a_propagation(self):\n",
    "        \"\"\"\n",
    "        Doing a propagation round.\n",
    "        \"\"\"\n",
    "        random.shuffle(self._nodes)\n",
    "        new_labels = {}\n",
    "        for node in self._nodes:\n",
    "            neighbors = [neb for neb in nx.neighbors(self._graph, node)]\n",
    "            pick = self._make_a_pick(neighbors)\n",
    "            new_labels[node] = pick\n",
    "        self._labels = new_labels\n",
    "\n",
    "    def fit(self, graph: nx.classes.graph.Graph):\n",
    "        \"\"\"\n",
    "        Fitting a Label Propagation clustering model.\n",
    "        Arg types:\n",
    "            * **graph** *(NetworkX graph)* - The graph to be clustered.\n",
    "        \"\"\"\n",
    "        self._set_seed()\n",
    "        graph = self._check_graph(graph)\n",
    "        self._graph = graph\n",
    "        self._nodes = [node for node in self._graph.nodes()]\n",
    "        self._labels = nx.get_node_attributes(self._graph, \"class\") # Hier\n",
    "        \n",
    "        random.seed(self.seed)\n",
    "        for _ in range(self.iterations):\n",
    "            self._do_a_propagation()\n",
    "\n",
    "    def get_memberships(self) -> Dict[int, int]:\n",
    "        r\"\"\"Getting the cluster membership of nodes.\n",
    "        Return types:\n",
    "            * **memberships** *(dict)* - Node cluster memberships.\n",
    "        \"\"\"\n",
    "        memberships = self._labels\n",
    "        return memberships"
   ]
  },
  {
   "cell_type": "code",
   "execution_count": 29,
   "metadata": {},
   "outputs": [],
   "source": [
    "def k_nearest_graph(embed, original_graph, k=5):\n",
    "    \"\"\"\"\n",
    "    Construct a graph from an embedding using the k-nearest graph algorithm\n",
    "    embed: embedding\n",
    "    original_graph: needed for preserving node attributes\n",
    "    k: nearest k neighbors to a point in the embedding space are used fix edges in the returned graph\n",
    "    \"\"\"\n",
    "    # create new graph based on original nodes and attributes\n",
    "    k_nearest_graph = nx.Graph()\n",
    "    k_nearest_graph.add_nodes_from(original_graph)\n",
    "    nx.set_node_attributes(k_nearest_graph, nx.get_node_attributes(original_graph, \"class\"),  \"class\")\n",
    "    # find the k nearest neighbors for each node and add between the node and these neighbors\n",
    "    # edges in the new graph \n",
    "    nbrs = NearestNeighbors(n_neighbors=k, algorithm='ball_tree').fit(embed)\n",
    "    _, indices = nbrs.kneighbors(embed)\n",
    "    k_nearest_links = [[i[0], j] for i in indices for j in i[1:]]\n",
    "    k_nearest_graph.add_edges_from(k_nearest_links)\n",
    "    return k_nearest_graph"
   ]
  },
  {
   "cell_type": "code",
   "execution_count": 30,
   "metadata": {},
   "outputs": [
    {
     "name": "stdout",
     "output_type": "stream",
     "text": [
      "#nodes: 500, #edges (bidirectional): 1834\n",
      "shape embedding: (500, 128)\n",
      "Counts of attributes[(1, 171), (0, 79), (682, 1), (594, 1), (582, 1), (663, 1), (511, 1), (717, 1), (642, 1), (658, 1), (618, 1), (512, 1), (526, 1), (600, 1), (520, 1), (748, 1), (509, 1), (745, 1), (592, 1), (504, 1), (697, 1), (662, 1), (629, 1), (725, 1), (738, 1), (572, 1), (736, 1), (673, 1), (672, 1), (542, 1), (559, 1), (645, 1), (639, 1), (508, 1), (650, 1), (608, 1), (545, 1), (598, 1), (557, 1), (688, 1), (540, 1), (649, 1), (721, 1), (522, 1), (610, 1), (730, 1), (570, 1), (575, 1), (705, 1), (657, 1), (666, 1), (624, 1), (652, 1), (655, 1), (589, 1), (627, 1), (684, 1), (718, 1), (543, 1), (671, 1), (719, 1), (741, 1), (665, 1), (638, 1), (529, 1), (583, 1), (690, 1), (552, 1), (513, 1), (550, 1), (537, 1), (611, 1), (619, 1), (706, 1), (501, 1), (698, 1), (635, 1), (677, 1), (631, 1), (728, 1), (634, 1), (689, 1), (694, 1), (519, 1), (595, 1), (636, 1), (625, 1), (536, 1), (620, 1), (500, 1), (709, 1), (577, 1), (699, 1), (521, 1), (693, 1), (715, 1), (532, 1), (602, 1), (590, 1), (630, 1), (714, 1), (506, 1), (534, 1), (615, 1), (527, 1), (669, 1), (613, 1), (654, 1), (523, 1), (633, 1), (551, 1), (648, 1), (544, 1), (505, 1), (685, 1), (579, 1), (581, 1), (747, 1), (507, 1), (678, 1), (541, 1), (524, 1), (740, 1), (644, 1), (528, 1), (569, 1), (679, 1), (632, 1), (586, 1), (695, 1), (659, 1), (593, 1), (707, 1), (622, 1), (723, 1), (696, 1), (614, 1), (713, 1), (640, 1), (676, 1), (573, 1), (701, 1), (546, 1), (692, 1), (563, 1), (560, 1), (606, 1), (628, 1), (702, 1), (733, 1), (664, 1), (734, 1), (561, 1), (525, 1), (548, 1), (691, 1), (686, 1), (727, 1), (571, 1), (703, 1), (670, 1), (651, 1), (565, 1), (674, 1), (712, 1), (553, 1), (502, 1), (539, 1), (564, 1), (637, 1), (641, 1), (661, 1), (729, 1), (596, 1), (538, 1), (656, 1), (687, 1), (549, 1), (584, 1), (742, 1), (578, 1), (535, 1), (574, 1), (739, 1), (580, 1), (612, 1), (518, 1), (668, 1), (683, 1), (503, 1), (562, 1), (499, 1), (556, 1), (746, 1), (591, 1), (667, 1), (567, 1), (737, 1), (626, 1), (646, 1), (708, 1), (601, 1), (566, 1), (616, 1), (720, 1), (568, 1), (587, 1), (585, 1), (716, 1), (643, 1), (609, 1), (555, 1), (588, 1), (607, 1), (681, 1), (554, 1), (558, 1), (617, 1), (653, 1), (675, 1), (732, 1), (623, 1), (735, 1), (576, 1), (514, 1), (603, 1), (726, 1), (647, 1), (597, 1), (660, 1), (731, 1), (724, 1), (743, 1), (711, 1), (510, 1), (680, 1), (710, 1), (599, 1), (515, 1), (516, 1), (533, 1), (531, 1), (530, 1), (605, 1), (621, 1), (547, 1), (700, 1), (517, 1), (744, 1), (604, 1), (722, 1), (704, 1)]\n",
      "{0: 682, 1: 594, 2: 582, 3: 1, 4: 1, 5: 1, 6: 1, 7: 1, 8: 1, 9: 1, 10: 663, 11: 511, 12: 717, 13: 642, 14: 1, 15: 658, 16: 618, 17: 512, 18: 1, 19: 526, 20: 1, 21: 600, 22: 520, 23: 748, 24: 509, 25: 745, 26: 592, 27: 504, 28: 697, 29: 1, 30: 662, 31: 1, 32: 629, 33: 725, 34: 1, 35: 738, 36: 1, 37: 572, 38: 736, 39: 673, 40: 1, 41: 1, 42: 672, 43: 542, 44: 559, 45: 1, 46: 1, 47: 1, 48: 1, 49: 1, 50: 1, 51: 645, 52: 639, 53: 1, 54: 508, 55: 650, 56: 608, 57: 545, 58: 598, 59: 1, 60: 557, 61: 1, 62: 688, 63: 540, 64: 1, 65: 649, 66: 721, 67: 1, 68: 522, 69: 1, 70: 1, 71: 1, 72: 610, 73: 730, 74: 1, 75: 1, 76: 1, 77: 1, 78: 570, 79: 1, 80: 575, 81: 1, 82: 705, 83: 657, 84: 1, 85: 1, 86: 1, 87: 1, 88: 1, 89: 1, 90: 666, 91: 1, 92: 624, 93: 1, 94: 1, 95: 652, 96: 655, 97: 589, 98: 627, 99: 1, 100: 1, 101: 684, 102: 1, 103: 718, 104: 1, 105: 1, 106: 543, 107: 671, 108: 719, 109: 1, 110: 1, 111: 1, 112: 741, 113: 665, 114: 1, 115: 638, 116: 1, 117: 1, 118: 529, 119: 583, 120: 1, 121: 1, 122: 1, 123: 690, 124: 552, 125: 513, 126: 1, 127: 550, 128: 537, 129: 611, 130: 619, 131: 706, 132: 501, 133: 698, 134: 635, 135: 677, 136: 631, 137: 1, 138: 1, 139: 1, 140: 728, 141: 634, 142: 689, 143: 1, 144: 694, 145: 1, 146: 1, 147: 519, 148: 595, 149: 636, 150: 625, 151: 1, 152: 536, 153: 1, 154: 620, 155: 500, 156: 709, 157: 1, 158: 577, 159: 1, 160: 1, 161: 1, 162: 1, 163: 699, 164: 521, 165: 693, 166: 1, 167: 1, 168: 715, 169: 532, 170: 602, 171: 1, 172: 590, 173: 630, 174: 1, 175: 1, 176: 714, 177: 1, 178: 506, 179: 1, 180: 534, 181: 615, 182: 1, 183: 527, 184: 669, 185: 613, 186: 654, 187: 1, 188: 1, 189: 1, 190: 523, 191: 633, 192: 1, 193: 551, 194: 1, 195: 1, 196: 1, 197: 1, 198: 1, 199: 648, 200: 544, 201: 1, 202: 1, 203: 505, 204: 685, 205: 579, 206: 1, 207: 1, 208: 581, 209: 747, 210: 1, 211: 507, 212: 678, 213: 1, 214: 541, 215: 524, 216: 1, 217: 740, 218: 1, 219: 1, 220: 1, 221: 1, 222: 644, 223: 528, 224: 569, 225: 1, 226: 1, 227: 1, 228: 1, 229: 1, 230: 1, 231: 679, 232: 632, 233: 1, 234: 1, 235: 1, 236: 586, 237: 1, 238: 695, 239: 1, 240: 1, 241: 1, 242: 1, 243: 659, 244: 1, 245: 593, 246: 707, 247: 622, 248: 1, 249: 723, 250: 696, 251: 614, 252: 713, 253: 1, 254: 1, 255: 1, 256: 1, 257: 1, 258: 1, 259: 640, 260: 676, 261: 573, 262: 1, 263: 1, 264: 701, 265: 546, 266: 692, 267: 563, 268: 560, 269: 1, 270: 606, 271: 1, 272: 1, 273: 628, 274: 1, 275: 702, 276: 733, 277: 664, 278: 1, 279: 1, 280: 1, 281: 1, 282: 734, 283: 561, 284: 1, 285: 1, 286: 1, 287: 1, 288: 1, 289: 525, 290: 1, 291: 548, 292: 1, 293: 1, 294: 691, 295: 1, 296: 1, 297: 686, 298: 1, 299: 727, 300: 1, 301: 1, 302: 571, 303: 1, 304: 1, 305: 1, 306: 1, 307: 1, 308: 1, 309: 703, 310: 670, 311: 651, 312: 565, 313: 1, 314: 1, 315: 674, 316: 712, 317: 1, 318: 1, 319: 1, 320: 553, 321: 502, 322: 539, 323: 1, 324: 564, 325: 1, 326: 637, 327: 641, 328: 1, 329: 1, 330: 661, 331: 729, 332: 1, 333: 1, 334: 1, 335: 1, 336: 596, 337: 1, 338: 538, 339: 656, 340: 687, 341: 1, 342: 1, 343: 1, 344: 549, 345: 1, 346: 584, 347: 742, 348: 578, 349: 1, 350: 535, 351: 574, 352: 0, 353: 0, 354: 739, 355: 580, 356: 612, 357: 518, 358: 0, 359: 0, 360: 0, 361: 668, 362: 683, 363: 503, 364: 562, 365: 0, 366: 0, 367: 499, 368: 0, 369: 556, 370: 0, 371: 0, 372: 0, 373: 0, 374: 0, 375: 0, 376: 746, 377: 0, 378: 0, 379: 591, 380: 667, 381: 567, 382: 0, 383: 737, 384: 0, 385: 626, 386: 0, 387: 0, 388: 646, 389: 708, 390: 0, 391: 601, 392: 566, 393: 616, 394: 0, 395: 0, 396: 0, 397: 720, 398: 0, 399: 0, 400: 568, 401: 0, 402: 0, 403: 587, 404: 0, 405: 0, 406: 0, 407: 0, 408: 0, 409: 585, 410: 0, 411: 716, 412: 0, 413: 643, 414: 0, 415: 0, 416: 609, 417: 0, 418: 555, 419: 0, 420: 0, 421: 0, 422: 588, 423: 607, 424: 681, 425: 0, 426: 554, 427: 0, 428: 0, 429: 0, 430: 0, 431: 0, 432: 0, 433: 558, 434: 0, 435: 0, 436: 0, 437: 0, 438: 617, 439: 0, 440: 653, 441: 0, 442: 675, 443: 0, 444: 732, 445: 623, 446: 0, 447: 0, 448: 0, 449: 0, 450: 735, 451: 576, 452: 514, 453: 0, 454: 0, 455: 603, 456: 726, 457: 647, 458: 0, 459: 0, 460: 597, 461: 0, 462: 0, 463: 0, 464: 660, 465: 731, 466: 724, 467: 743, 468: 0, 469: 711, 470: 0, 471: 0, 472: 0, 473: 0, 474: 510, 475: 680, 476: 710, 477: 599, 478: 515, 479: 0, 480: 516, 481: 533, 482: 531, 483: 530, 484: 0, 485: 605, 486: 0, 487: 0, 488: 0, 489: 0, 490: 621, 491: 547, 492: 0, 493: 700, 494: 517, 495: 744, 496: 0, 497: 604, 498: 722, 499: 704}\n"
     ]
    },
    {
     "ename": "TypeError",
     "evalue": "unhashable type: 'list'",
     "output_type": "error",
     "traceback": [
      "\u001b[0;31m---------------------------------------------------------------------------\u001b[0m",
      "\u001b[0;31mTypeError\u001b[0m                                 Traceback (most recent call last)",
      "Cell \u001b[0;32mIn[30], line 33\u001b[0m\n\u001b[1;32m     31\u001b[0m lp \u001b[39m=\u001b[39m MyLabelPropagation(seed\u001b[39m=\u001b[39m\u001b[39mNone\u001b[39;00m, iterations\u001b[39m=\u001b[39m\u001b[39m7\u001b[39m)\n\u001b[1;32m     32\u001b[0m \u001b[39m# lp.fit(k_nearest_graph_synth2)\u001b[39;00m\n\u001b[0;32m---> 33\u001b[0m lp\u001b[39m.\u001b[39;49mfit(graph_synth2)\n",
      "Cell \u001b[0;32mIn[28], line 64\u001b[0m, in \u001b[0;36mMyLabelPropagation.fit\u001b[0;34m(self, graph)\u001b[0m\n\u001b[1;32m     62\u001b[0m random\u001b[39m.\u001b[39mseed(\u001b[39mself\u001b[39m\u001b[39m.\u001b[39mseed)\n\u001b[1;32m     63\u001b[0m \u001b[39mfor\u001b[39;00m _ \u001b[39min\u001b[39;00m \u001b[39mrange\u001b[39m(\u001b[39mself\u001b[39m\u001b[39m.\u001b[39miterations):\n\u001b[0;32m---> 64\u001b[0m     \u001b[39mself\u001b[39;49m\u001b[39m.\u001b[39;49m_do_a_propagation()\n",
      "Cell \u001b[0;32mIn[28], line 46\u001b[0m, in \u001b[0;36mMyLabelPropagation._do_a_propagation\u001b[0;34m(self)\u001b[0m\n\u001b[1;32m     44\u001b[0m \u001b[39mfor\u001b[39;00m node \u001b[39min\u001b[39;00m \u001b[39mself\u001b[39m\u001b[39m.\u001b[39m_nodes:\n\u001b[1;32m     45\u001b[0m     neighbors \u001b[39m=\u001b[39m [neb \u001b[39mfor\u001b[39;00m neb \u001b[39min\u001b[39;00m nx\u001b[39m.\u001b[39mneighbors(\u001b[39mself\u001b[39m\u001b[39m.\u001b[39m_graph, node)]\n\u001b[0;32m---> 46\u001b[0m     pick \u001b[39m=\u001b[39m \u001b[39mself\u001b[39;49m\u001b[39m.\u001b[39;49m_make_a_pick(neighbors)\n\u001b[1;32m     47\u001b[0m     new_labels[node] \u001b[39m=\u001b[39m pick\n\u001b[1;32m     48\u001b[0m \u001b[39mself\u001b[39m\u001b[39m.\u001b[39m_labels \u001b[39m=\u001b[39m new_labels\n",
      "Cell \u001b[0;32mIn[28], line 30\u001b[0m, in \u001b[0;36mMyLabelPropagation._make_a_pick\u001b[0;34m(self, neighbors)\u001b[0m\n\u001b[1;32m     28\u001b[0m \u001b[39mfor\u001b[39;00m neighbor \u001b[39min\u001b[39;00m neighbors:\n\u001b[1;32m     29\u001b[0m     neighbor_label \u001b[39m=\u001b[39m \u001b[39mself\u001b[39m\u001b[39m.\u001b[39m_labels[neighbor]\n\u001b[0;32m---> 30\u001b[0m     \u001b[39mif\u001b[39;00m neighbor_label \u001b[39min\u001b[39;49;00m scores\u001b[39m.\u001b[39;49mkeys():\n\u001b[1;32m     31\u001b[0m         scores[neighbor_label] \u001b[39m=\u001b[39m scores[neighbor_label] \u001b[39m+\u001b[39m \u001b[39m1\u001b[39m\n\u001b[1;32m     32\u001b[0m     \u001b[39melse\u001b[39;00m:\n",
      "\u001b[0;31mTypeError\u001b[0m: unhashable type: 'list'"
     ]
    }
   ],
   "source": [
    "# get graph from data\n",
    "graph_synth2 = embed_utils.data2graph(\"synth2\")\n",
    "print(f\"#nodes: {len(graph_synth2.nodes())}, #edges (bidirectional): {len(graph_synth2.edges())}\")\n",
    "\n",
    "# Split into train test\n",
    "train_nodes, test_nodes = train_test_split(list(graph_synth2.nodes()), train_size=.5)\n",
    "# Set labels of test nodes to other classes\n",
    "original_attributes = deepcopy(nx.get_node_attributes(graph_synth2, \"class\"))\n",
    "all_attributes = nx.get_node_attributes(graph_synth2, \"class\")\n",
    "i = max(all_attributes)\n",
    "for node in test_nodes:\n",
    "\n",
    "    all_attributes[node] = i\n",
    "    i += 1\n",
    "\n",
    "nx.set_node_attributes(graph_synth2, all_attributes, \"class\")\n",
    "\n",
    "# print(all_attributes)\n",
    "# print(nx.set_node_attributes(graph_synth2, all_attributes, \"class\"))\n",
    "# print(nx.get_node_attributes(graph_synth2, \"class\"))\n",
    "# get embedding from graph using DeepWalk\n",
    "embed_synth2_karateclub = embed_utils.graph2embed(graph_synth2)\n",
    "# embed_synth2_karateclub = embed_utils.load_embed(\"rice\", \"NC\", method=\"fairwalk\", implementation=\"singer\")\n",
    "print(f\"shape embedding: {embed_synth2_karateclub.shape}\")\n",
    "labels_list = list(nx.get_node_attributes(graph_synth2, \"class\").values())\n",
    "\n",
    "print(f\"Counts of attributes{Counter(labels_list).most_common()}\")\n",
    "# construct new graph from the embedding using k-nearest graph algorithm\n",
    "k_nearest_graph_synth2 = k_nearest_graph(embed_synth2_karateclub, graph_synth2)\n",
    "# # use label propagation on the new graph for classification\n",
    "lp = MyLabelPropagation(seed=None, iterations=7)\n",
    "# lp.fit(k_nearest_graph_synth2)\n",
    "lp.fit(graph_synth2)"
   ]
  },
  {
   "cell_type": "code",
   "execution_count": null,
   "metadata": {},
   "outputs": [
    {
     "name": "stdout",
     "output_type": "stream",
     "text": [
      "Accuracy is 0.948\n"
     ]
    }
   ],
   "source": [
    "membs = lp.get_memberships()\n",
    "\n",
    "correct = 0\n",
    "total = len(test_nodes)\n",
    "for node in test_nodes:\n",
    "    t = membs[node]\n",
    "    y = original_attributes[node]\n",
    "\n",
    "    if y == t and t is not None:\n",
    "        correct += 1\n",
    "\n",
    "print(f\"Accuracy is {correct/total}\")"
   ]
  },
  {
   "cell_type": "code",
   "execution_count": null,
   "metadata": {},
   "outputs": [],
   "source": []
  }
 ],
 "metadata": {
  "kernelspec": {
   "display_name": "python38",
   "language": "python",
   "name": "python3"
  },
  "language_info": {
   "codemirror_mode": {
    "name": "ipython",
    "version": 3
   },
   "file_extension": ".py",
   "mimetype": "text/x-python",
   "name": "python",
   "nbconvert_exporter": "python",
   "pygments_lexer": "ipython3",
   "version": "3.8.5"
  },
  "orig_nbformat": 4,
  "vscode": {
   "interpreter": {
    "hash": "8949a930b94cb2d6142be8852a1ccaa69d4dc3b8865dcadf9a78733a73bf6340"
   }
  }
 },
 "nbformat": 4,
 "nbformat_minor": 2
}
