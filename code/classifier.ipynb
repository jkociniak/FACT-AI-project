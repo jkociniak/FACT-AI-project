{
 "cells": [
  {
   "attachments": {},
   "cell_type": "markdown",
   "metadata": {},
   "source": [
    "### What:\n",
    "\n",
    "Trying to get node classification with deepwalk+Label Propagation to work\n",
    "\n",
    "### TODO:\n",
    "\n",
    "- improve documentation/comments\n",
    "- add train and test split to actually test performance for classiying\n",
    "    - follow the authors code for the split. See main.py in the 'classifier' folder\n",
    "        - same splits and hyperparameters\n",
    "    - add code for LabelPropagation() to perform the task\n",
    "- compare Perozzis embeddings with karateclub\n",
    "    - make their shapes compatible"
   ]
  },
  {
   "cell_type": "code",
   "execution_count": 114,
   "metadata": {},
   "outputs": [],
   "source": [
    "import numpy as np\n",
    "import networkx as nx\n",
    "from karateclub import LabelPropagation\n",
    "from sklearn.neighbors import NearestNeighbors\n",
    "import embed_utils\n",
    "from sklearn.model_selection import train_test_split\n",
    "from copy import deepcopy\n",
    "from collections import Counter"
   ]
  },
  {
   "cell_type": "code",
   "execution_count": 137,
   "metadata": {},
   "outputs": [],
   "source": [
    "import random\n",
    "import networkx as nx\n",
    "from typing import Dict\n",
    "from karateclub.estimator import Estimator\n",
    "\n",
    "\n",
    "class MyLabelPropagation(Estimator):\n",
    "    r\"\"\"An implementation of `\"Label Propagation Clustering\" <https://arxiv.org/abs/0709.2938>`_\n",
    "    from the Physical Review '07 paper \"Near Linear Time Algorithm to Detect Community Structures\n",
    "    in Large-Scale Networks\". The tool executes a series of label propagations with unique labels.\n",
    "    The final labels are used as cluster memberships.\n",
    "    Args:\n",
    "        seed (int): Random seed. Default is 42.\n",
    "        iterations (int): Propagation iterations. Default is 100.\n",
    "    \"\"\"\n",
    "\n",
    "    def __init__(self, seed: int = 42, iterations: int = 7):\n",
    "        self.seed = seed\n",
    "        self.iterations = iterations\n",
    "\n",
    "    def _make_a_pick(self, neighbors):\n",
    "        \"\"\"\n",
    "        Choosing a neighbor from a propagation source node.\n",
    "        Arg types:\n",
    "            * **neigbours** *(list)* - Neighbouring nodes.\n",
    "        \"\"\"\n",
    "        scores = {}\n",
    "        for neighbor in neighbors:\n",
    "            neighbor_label = self._labels[neighbor]\n",
    "\n",
    "            if neighbor_label in scores.keys():\n",
    "                scores[neighbor_label] = scores[neighbor_label] + 1\n",
    "            else:\n",
    "                scores[neighbor_label] = 1\n",
    "\n",
    "        top = [key for key, val in scores.items() if val == max(scores.values())]\n",
    "        return random.sample(top, 1)[0]\n",
    "\n",
    "    def _do_a_propagation(self):\n",
    "        \"\"\"\n",
    "        Doing a propagation round.\n",
    "        \"\"\"\n",
    "        random.shuffle(self._nodes)\n",
    "        new_labels = {}\n",
    "        for node in self._nodes:\n",
    "            neighbors = [neb for neb in nx.neighbors(self._graph, node)]\n",
    "            pick = self._make_a_pick(neighbors)\n",
    "            new_labels[node] = pick\n",
    "        self._labels = new_labels\n",
    "\n",
    "    def fit(self, graph: nx.classes.graph.Graph):\n",
    "        \"\"\"\n",
    "        Fitting a Label Propagation clustering model.\n",
    "        Arg types:\n",
    "            * **graph** *(NetworkX graph)* - The graph to be clustered.\n",
    "        \"\"\"\n",
    "        self._set_seed()\n",
    "        graph = self._check_graph(graph)\n",
    "        self._graph = graph\n",
    "        self._nodes = [node for node in self._graph.nodes()]\n",
    "        self._labels = nx.get_node_attributes(self._graph, \"class\") # Hier\n",
    "        \n",
    "        random.seed(self.seed)\n",
    "        for _ in range(self.iterations):\n",
    "            self._do_a_propagation()\n",
    "\n",
    "    def get_memberships(self) -> Dict[int, int]:\n",
    "        r\"\"\"Getting the cluster membership of nodes.\n",
    "        Return types:\n",
    "            * **memberships** *(dict)* - Node cluster memberships.\n",
    "        \"\"\"\n",
    "        memberships = self._labels\n",
    "        return memberships"
   ]
  },
  {
   "cell_type": "code",
   "execution_count": 138,
   "metadata": {},
   "outputs": [],
   "source": [
    "def k_nearest_graph(embed, original_graph, k=10):\n",
    "    \"\"\"\"\n",
    "    Construct a graph from an embedding using the k-nearest graph algorithm\n",
    "    embed: embedding\n",
    "    original_graph: needed for preserving node attributes\n",
    "    k: nearest k neighbors to a point in the embedding space are used fix edges in the returned graph\n",
    "    \"\"\"\n",
    "    # create new graph based on original nodes and attributes\n",
    "    k_nearest_graph = nx.Graph()\n",
    "    k_nearest_graph.add_nodes_from(original_graph)\n",
    "    nx.set_node_attributes(k_nearest_graph, nx.get_node_attributes(original_graph, \"class\"),  \"class\")\n",
    "    # find the k nearest neighbors for each node and add between the node and these neighbors\n",
    "    # edges in the new graph \n",
    "    nbrs = NearestNeighbors(n_neighbors=k, algorithm='ball_tree').fit(embed)\n",
    "    _, indices = nbrs.kneighbors(embed)\n",
    "    k_nearest_links = [[i[0], j] for i in indices for j in i[1:]]\n",
    "    k_nearest_graph.add_edges_from(k_nearest_links)\n",
    "    return k_nearest_graph"
   ]
  },
  {
   "cell_type": "code",
   "execution_count": 139,
   "metadata": {},
   "outputs": [],
   "source": [
    "def change_attributes_of_graph(graph, nodes_attr_change:dict, attribute_name:str):\n",
    "\n",
    "    nx.set_node_attributes(graph, nodes_attr_change, attribute_name)\n",
    "\n",
    "    return graph"
   ]
  },
  {
   "cell_type": "code",
   "execution_count": 140,
   "metadata": {},
   "outputs": [
    {
     "name": "stdout",
     "output_type": "stream",
     "text": [
      "#nodes: 500, #edges (bidirectional): 1834\n"
     ]
    }
   ],
   "source": [
    "from pprint import pprint\n",
    "# get graph from data\n",
    "graph_synth2 = embed_utils.data2graph(\"synth2\")\n",
    "print(f\"#nodes: {len(graph_synth2.nodes())}, #edges (bidirectional): {len(graph_synth2.edges())}\")\n",
    "\n",
    "# Split into train test\n",
    "train_nodes, test_nodes = train_test_split(list(graph_synth2.nodes()), train_size=.5)\n",
    "\n",
    "# Set labels of test nodes to other classes\n",
    "original_attributes = deepcopy(nx.get_node_attributes(graph_synth2, \"class\"))\n",
    "node_to_attribute = nx.get_node_attributes(graph_synth2, \"class\")\n",
    "\n",
    "i = max(node_to_attribute.values())\n",
    "change_to = {} # Node, new attribute\n",
    "for node in graph_synth2.nodes():\n",
    "\n",
    "    if node in test_nodes:\n",
    "        change_to[node] = i\n",
    "        i += 1\n",
    "    else:\n",
    "        change_to[node] = node_to_attribute[node]\n",
    "\n",
    "nx.set_node_attributes(graph_synth2, change_to, \"class\")\n",
    "\n",
    "# get embedding from graph using DeepWalk\n",
    "embed_synth2_karateclub = embed_utils.graph2embed(graph_synth2)\n",
    "embed_synth2_karateclub = embed_utils.load_embed(\"rice\", \"NC\", method=\"fairwalk\", implementation=\"singer\")\n",
    "# print(f\"shape embedding: {embed_synth2_karateclub.shape}\")\n",
    "# construct new graph from the embedding using k-nearest graph algorithm\n",
    "k_nearest_graph_synth2 = k_nearest_graph(embed_synth2_karateclub, graph_synth2)\n",
    "# # use label propagation on the new graph for classification\n",
    "lp = MyLabelPropagation(seed=None, iterations=7)\n",
    "# lp.fit(k_nearest_graph_synth2)\n",
    "lp.fit(k_nearest_graph_synth2)"
   ]
  },
  {
   "cell_type": "code",
   "execution_count": 145,
   "metadata": {},
   "outputs": [
    {
     "name": "stdout",
     "output_type": "stream",
     "text": [
      "Test nodes in c=0: 80, Test nodes in c=1: 170\n",
      "Number of nodes predicted in c0 and c1: 1 1\n",
      "Most common labels in predictions: [(1, 445), (0, 26), (249, 1)]\n",
      "0.0 100.0\n"
     ]
    },
    {
     "data": {
      "text/plain": [
       "2500.0"
      ]
     },
     "execution_count": 145,
     "metadata": {},
     "output_type": "execute_result"
    }
   ],
   "source": [
    "def get_accuracy(target_nodes, predicted_attributes, target_attributes):\n",
    "    correct = 0\n",
    "    total = len(target_nodes)\n",
    "    for node in target_nodes:\n",
    "        t = predicted_attributes[node]\n",
    "        y = target_attributes[node]\n",
    "\n",
    "        if y == t and t is not None:\n",
    "            correct += 1\n",
    "\n",
    "    return correct/total\n",
    "\n",
    "nodes_c0 = [node for node in test_nodes if original_attributes[node] == 0]\n",
    "acc_c0 = get_accuracy(nodes_c0, lp.get_memberships(), original_attributes)\n",
    "\n",
    "nodes_c1 = [node for node in test_nodes if original_attributes[node] == 1]\n",
    "acc_c1 = get_accuracy(nodes_c1, lp.get_memberships(), original_attributes)\n",
    "\n",
    "print(f\"Test nodes in c=0: {len(nodes_c0)}, Test nodes in c=1: {len(nodes_c1)}\")\n",
    "print(\"Number of nodes predicted in c0 and c1:\", len([n for n in lp.get_memberships()if n == 0]), len([n for n in lp.get_memberships() if n == 1]))\n",
    "print(\"Most common labels in predictions:\", Counter(list(lp.get_memberships().values())).most_common(3))\n",
    "print(acc_c0*100, acc_c1*100)\n",
    "np.var([acc_c0*100, acc_c1*100])"
   ]
  },
  {
   "cell_type": "code",
   "execution_count": null,
   "metadata": {},
   "outputs": [],
   "source": []
  },
  {
   "cell_type": "code",
   "execution_count": null,
   "metadata": {},
   "outputs": [],
   "source": []
  }
 ],
 "metadata": {
  "kernelspec": {
   "display_name": "python38",
   "language": "python",
   "name": "python3"
  },
  "language_info": {
   "codemirror_mode": {
    "name": "ipython",
    "version": 3
   },
   "file_extension": ".py",
   "mimetype": "text/x-python",
   "name": "python",
   "nbconvert_exporter": "python",
   "pygments_lexer": "ipython3",
   "version": "3.8.5"
  },
  "orig_nbformat": 4,
  "vscode": {
   "interpreter": {
    "hash": "8949a930b94cb2d6142be8852a1ccaa69d4dc3b8865dcadf9a78733a73bf6340"
   }
  }
 },
 "nbformat": 4,
 "nbformat_minor": 2
}
