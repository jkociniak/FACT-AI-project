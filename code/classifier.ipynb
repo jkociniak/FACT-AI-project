{
 "cells": [
  {
   "attachments": {},
   "cell_type": "markdown",
   "metadata": {},
   "source": [
    "### What:\n",
    "\n",
    "Trying to get node classification with deepwalk+Label Propagation to work\n",
    "\n",
    "### TODO:\n",
    "\n",
    "- improve documentation/comments\n",
    "- add train and test split to actually test performance for classiying\n",
    "    - follow the authors code for the split. See main.py in the 'classifier' folder\n",
    "        - same splits and hyperparameters\n",
    "    - add code for LabelPropagation() to perform the task\n",
    "- compare Perozzis embeddings with karateclub\n",
    "    - make their shapes compatible"
   ]
  },
  {
   "cell_type": "code",
   "execution_count": 1,
   "metadata": {},
   "outputs": [
    {
     "name": "stderr",
     "output_type": "stream",
     "text": [
      "/home/job/miniconda3/envs/karate/lib/python3.10/site-packages/tqdm/auto.py:22: TqdmWarning: IProgress not found. Please update jupyter and ipywidgets. See https://ipywidgets.readthedocs.io/en/stable/user_install.html\n",
      "  from .autonotebook import tqdm as notebook_tqdm\n"
     ]
    }
   ],
   "source": [
    "import numpy as np\n",
    "import networkx as nx\n",
    "from karateclub import LabelPropagation\n",
    "from sklearn.neighbors import NearestNeighbors\n",
    "import embed_utils"
   ]
  },
  {
   "cell_type": "code",
   "execution_count": 7,
   "metadata": {},
   "outputs": [],
   "source": [
    "def k_nearest_graph(embed, original_graph, k=5):\n",
    "    \"\"\"\"\n",
    "    Construct a graph from an embedding using the k-nearest graph algorithm\n",
    "    embed: embedding\n",
    "    original_graph: needed for preserving node attributes\n",
    "    k: nearest k neighbors to a point in the embedding space are used fix edges in the returned graph\n",
    "    \"\"\"\n",
    "    # create new graph based on original nodes and attributes\n",
    "    k_nearest_graph = nx.Graph()\n",
    "    k_nearest_graph.add_nodes_from(original_graph)\n",
    "    nx.set_node_attributes(k_nearest_graph, nx.get_node_attributes(original_graph, \"class\"),  \"class\")\n",
    "    # find the k nearest neighbors for each node and add between the node and these neighbors\n",
    "    # edges in the new graph \n",
    "    nbrs = NearestNeighbors(n_neighbors=k, algorithm='ball_tree').fit(embed)\n",
    "    _, indices = nbrs.kneighbors(embed)\n",
    "    k_nearest_links = [[i[0], j] for i in indices for j in i[1:]]\n",
    "    k_nearest_graph.add_edges_from(k_nearest_links)\n",
    "    return k_nearest_graph"
   ]
  },
  {
   "cell_type": "code",
   "execution_count": 9,
   "metadata": {},
   "outputs": [
    {
     "name": "stdout",
     "output_type": "stream",
     "text": [
      "#nodes: 445, #edges (bidirectional): 9660\n"
     ]
    },
    {
     "ename": "AssertionError",
     "evalue": "The node indexing is wrong.",
     "output_type": "error",
     "traceback": [
      "\u001b[0;31m---------------------------------------------------------------------------\u001b[0m",
      "\u001b[0;31mAssertionError\u001b[0m                            Traceback (most recent call last)",
      "Cell \u001b[0;32mIn[9], line 5\u001b[0m\n\u001b[1;32m      3\u001b[0m \u001b[39mprint\u001b[39m(\u001b[39mf\u001b[39m\u001b[39m\"\u001b[39m\u001b[39m#nodes: \u001b[39m\u001b[39m{\u001b[39;00m\u001b[39mlen\u001b[39m(graph_synth2\u001b[39m.\u001b[39mnodes())\u001b[39m}\u001b[39;00m\u001b[39m, #edges (bidirectional): \u001b[39m\u001b[39m{\u001b[39;00m\u001b[39mlen\u001b[39m(graph_synth2\u001b[39m.\u001b[39medges())\u001b[39m}\u001b[39;00m\u001b[39m\"\u001b[39m)\n\u001b[1;32m      4\u001b[0m \u001b[39m# get embedding from graph using DeepWalk\u001b[39;00m\n\u001b[0;32m----> 5\u001b[0m embed_synth2_karateclub \u001b[39m=\u001b[39m embed_utils\u001b[39m.\u001b[39;49mgraph2embed(graph_synth2)\n\u001b[1;32m      6\u001b[0m \u001b[39mprint\u001b[39m(\u001b[39mf\u001b[39m\u001b[39m\"\u001b[39m\u001b[39mshape embedding: \u001b[39m\u001b[39m{\u001b[39;00membed_synth2_karateclub\u001b[39m.\u001b[39mshape\u001b[39m}\u001b[39;00m\u001b[39m\"\u001b[39m)\n\u001b[1;32m      7\u001b[0m labels_list \u001b[39m=\u001b[39m \u001b[39mlist\u001b[39m(nx\u001b[39m.\u001b[39mget_node_attributes(graph_synth2, \u001b[39m\"\u001b[39m\u001b[39mclass\u001b[39m\u001b[39m\"\u001b[39m)\u001b[39m.\u001b[39mvalues())\n",
      "File \u001b[0;32m~/Documents/FACT/Crosswalk_github/FACT-AI-project/code/embed_utils.py:26\u001b[0m, in \u001b[0;36mgraph2embed\u001b[0;34m(graph, method)\u001b[0m\n\u001b[1;32m     24\u001b[0m \u001b[39mif\u001b[39;00m method\u001b[39m==\u001b[39m\u001b[39m\"\u001b[39m\u001b[39mkarateclub\u001b[39m\u001b[39m\"\u001b[39m:\n\u001b[1;32m     25\u001b[0m     model \u001b[39m=\u001b[39m DeepWalk()\n\u001b[0;32m---> 26\u001b[0m     model\u001b[39m.\u001b[39;49mfit(graph)\n\u001b[1;32m     27\u001b[0m     embed \u001b[39m=\u001b[39m model\u001b[39m.\u001b[39mget_embedding()\n\u001b[1;32m     28\u001b[0m     \u001b[39mreturn\u001b[39;00m embed\n",
      "File \u001b[0;32m~/miniconda3/envs/karate/lib/python3.10/site-packages/karateclub/node_embedding/neighbourhood/deepwalk.py:58\u001b[0m, in \u001b[0;36mDeepWalk.fit\u001b[0;34m(self, graph)\u001b[0m\n\u001b[1;32m     51\u001b[0m \u001b[39m\"\"\"\u001b[39;00m\n\u001b[1;32m     52\u001b[0m \u001b[39mFitting a DeepWalk model.\u001b[39;00m\n\u001b[1;32m     53\u001b[0m \n\u001b[1;32m     54\u001b[0m \u001b[39mArg types:\u001b[39;00m\n\u001b[1;32m     55\u001b[0m \u001b[39m    * **graph** *(NetworkX graph)* - The graph to be embedded.\u001b[39;00m\n\u001b[1;32m     56\u001b[0m \u001b[39m\"\"\"\u001b[39;00m\n\u001b[1;32m     57\u001b[0m \u001b[39mself\u001b[39m\u001b[39m.\u001b[39m_set_seed()\n\u001b[0;32m---> 58\u001b[0m graph \u001b[39m=\u001b[39m \u001b[39mself\u001b[39;49m\u001b[39m.\u001b[39;49m_check_graph(graph)\n\u001b[1;32m     59\u001b[0m walker \u001b[39m=\u001b[39m RandomWalker(\u001b[39mself\u001b[39m\u001b[39m.\u001b[39mwalk_length, \u001b[39mself\u001b[39m\u001b[39m.\u001b[39mwalk_number)\n\u001b[1;32m     60\u001b[0m walker\u001b[39m.\u001b[39mdo_walks(graph)\n",
      "File \u001b[0;32m~/miniconda3/envs/karate/lib/python3.10/site-packages/karateclub/estimator.py:65\u001b[0m, in \u001b[0;36mEstimator._check_graph\u001b[0;34m(self, graph)\u001b[0m\n\u001b[1;32m     63\u001b[0m \u001b[39mdef\u001b[39;00m \u001b[39m_check_graph\u001b[39m(\u001b[39mself\u001b[39m, graph: nx\u001b[39m.\u001b[39mclasses\u001b[39m.\u001b[39mgraph\u001b[39m.\u001b[39mGraph) \u001b[39m-\u001b[39m\u001b[39m>\u001b[39m nx\u001b[39m.\u001b[39mclasses\u001b[39m.\u001b[39mgraph\u001b[39m.\u001b[39mGraph:\n\u001b[1;32m     64\u001b[0m     \u001b[39m\"\"\"Check the Karate Club assumptions about the graph.\"\"\"\u001b[39;00m\n\u001b[0;32m---> 65\u001b[0m     \u001b[39mself\u001b[39;49m\u001b[39m.\u001b[39;49m_check_indexing(graph)\n\u001b[1;32m     66\u001b[0m     graph \u001b[39m=\u001b[39m \u001b[39mself\u001b[39m\u001b[39m.\u001b[39m_ensure_integrity(graph)\n\u001b[1;32m     68\u001b[0m     \u001b[39mreturn\u001b[39;00m graph\n",
      "File \u001b[0;32m~/miniconda3/envs/karate/lib/python3.10/site-packages/karateclub/estimator.py:61\u001b[0m, in \u001b[0;36mEstimator._check_indexing\u001b[0;34m(graph)\u001b[0m\n\u001b[1;32m     58\u001b[0m numeric_indices \u001b[39m=\u001b[39m [index \u001b[39mfor\u001b[39;00m index \u001b[39min\u001b[39;00m \u001b[39mrange\u001b[39m(graph\u001b[39m.\u001b[39mnumber_of_nodes())]\n\u001b[1;32m     59\u001b[0m node_indices \u001b[39m=\u001b[39m \u001b[39msorted\u001b[39m([node \u001b[39mfor\u001b[39;00m node \u001b[39min\u001b[39;00m graph\u001b[39m.\u001b[39mnodes()])\n\u001b[0;32m---> 61\u001b[0m \u001b[39massert\u001b[39;00m numeric_indices \u001b[39m==\u001b[39m node_indices, \u001b[39m\"\u001b[39m\u001b[39mThe node indexing is wrong.\u001b[39m\u001b[39m\"\u001b[39m\n",
      "\u001b[0;31mAssertionError\u001b[0m: The node indexing is wrong."
     ]
    }
   ],
   "source": [
    "# get graph from data\n",
    "graph_synth2 = embed_utils.data2graph(\"synth2\", \"class\")\n",
    "print(f\"#nodes: {len(graph_synth2.nodes())}, #edges (bidirectional): {len(graph_synth2.edges())}\")\n",
    "# get embedding from graph using DeepWalk\n",
    "embed_synth2_karateclub = embed_utils.graph2embed(graph_synth2)\n",
    "print(f\"shape embedding: {embed_synth2_karateclub.shape}\")\n",
    "labels_list = list(nx.get_node_attributes(graph_synth2, \"class\").values())\n",
    "n_class_1 = sum(labels_list)\n",
    "n_class_0 = len(labels_list) - n_class_1\n",
    "print(f\"#nodes with class 0: {n_class_0}, #nodes with class 1: {n_class_1}\")\n",
    "# construct new graph from the embedding using k-nearest graph algorithm\n",
    "k_nearest_graph_synth2 = k_nearest_graph(embed_synth2_karateclub, graph_synth2)\n",
    "# # use label propagation on the new graph for classification\n",
    "# lp = LabelPropagation()\n",
    "# lp.fit(k_nearest_graph_synth2)"
   ]
  },
  {
   "cell_type": "code",
   "execution_count": null,
   "metadata": {},
   "outputs": [],
   "source": []
  }
 ],
 "metadata": {
  "kernelspec": {
   "display_name": "karate",
   "language": "python",
   "name": "python3"
  },
  "language_info": {
   "codemirror_mode": {
    "name": "ipython",
    "version": 3
   },
   "file_extension": ".py",
   "mimetype": "text/x-python",
   "name": "python",
   "nbconvert_exporter": "python",
   "pygments_lexer": "ipython3",
   "version": "3.10.8"
  },
  "orig_nbformat": 4,
  "vscode": {
   "interpreter": {
    "hash": "004704e42d79ced63795043d89add8ae96304b2a7499c0b7ffed044fe8a1d5bb"
   }
  }
 },
 "nbformat": 4,
 "nbformat_minor": 2
}
