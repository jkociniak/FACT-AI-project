{
 "cells": [
  {
   "attachments": {},
   "cell_type": "markdown",
   "metadata": {},
   "source": [
    "### What:\n",
    "\n",
    "Trying to get node classification with deepwalk+Label Propagation to work\n",
    "\n",
    "### TODO:\n",
    "\n",
    "- improve documentation/comments\n",
    "- add train and test split to actually test performance for classiying\n",
    "    - follow the authors code for the split. See main.py in the 'classifier' folder\n",
    "        - same splits and hyperparameters\n",
    "    - add code for LabelPropagation() to perform the task\n",
    "- compare Perozzis embeddings with karateclub\n",
    "    - make their shapes compatible"
   ]
  },
  {
   "cell_type": "code",
   "execution_count": 19,
   "metadata": {},
   "outputs": [],
   "source": [
    "import numpy as np\n",
    "import networkx as nx\n",
    "from karateclub import LabelPropagation\n",
    "from sklearn.neighbors import NearestNeighbors\n",
    "import embed_utils\n",
    "from sklearn.model_selection import train_test_split\n",
    "from copy import deepcopy\n",
    "from collections import Counter"
   ]
  },
  {
   "cell_type": "code",
   "execution_count": 2,
   "metadata": {},
   "outputs": [],
   "source": [
    "import random\n",
    "import networkx as nx\n",
    "from typing import Dict\n",
    "from karateclub.estimator import Estimator\n",
    "\n",
    "\n",
    "class MyLabelPropagation(Estimator):\n",
    "    r\"\"\"An implementation of `\"Label Propagation Clustering\" <https://arxiv.org/abs/0709.2938>`_\n",
    "    from the Physical Review '07 paper \"Near Linear Time Algorithm to Detect Community Structures\n",
    "    in Large-Scale Networks\". The tool executes a series of label propagations with unique labels.\n",
    "    The final labels are used as cluster memberships.\n",
    "    Args:\n",
    "        seed (int): Random seed. Default is 42.\n",
    "        iterations (int): Propagation iterations. Default is 100.\n",
    "    \"\"\"\n",
    "\n",
    "    def __init__(self, seed: int = 42, iterations: int = 7):\n",
    "        self.seed = seed\n",
    "        self.iterations = iterations\n",
    "\n",
    "    def _make_a_pick(self, neighbors):\n",
    "        \"\"\"\n",
    "        Choosing a neighbor from a propagation source node.\n",
    "        Arg types:\n",
    "            * **neigbours** *(list)* - Neighbouring nodes.\n",
    "        \"\"\"\n",
    "        scores = {}\n",
    "        for neighbor in neighbors:\n",
    "            neighbor_label = self._labels[neighbor]\n",
    "            if neighbor_label in scores.keys():\n",
    "                scores[neighbor_label] = scores[neighbor_label] + 1\n",
    "            else:\n",
    "                scores[neighbor_label] = 1\n",
    "        top = [key for key, val in scores.items() if val == max(scores.values()) and val is not None]\n",
    "\n",
    "        if len(top) > 0:\n",
    "            return random.sample(top, 1)[0]\n",
    "        else:\n",
    "            return None\n",
    "\n",
    "    def _do_a_propagation(self):\n",
    "        \"\"\"\n",
    "        Doing a propagation round.\n",
    "        \"\"\"\n",
    "        random.shuffle(self._nodes)\n",
    "        new_labels = {}\n",
    "        for node in self._nodes:\n",
    "            neighbors = [neb for neb in nx.neighbors(self._graph, node)]\n",
    "            pick = self._make_a_pick(neighbors)\n",
    "            new_labels[node] = pick\n",
    "        self._labels = new_labels\n",
    "\n",
    "    def fit(self, graph: nx.classes.graph.Graph):\n",
    "        \"\"\"\n",
    "        Fitting a Label Propagation clustering model.\n",
    "        Arg types:\n",
    "            * **graph** *(NetworkX graph)* - The graph to be clustered.\n",
    "        \"\"\"\n",
    "        self._set_seed()\n",
    "        graph = self._check_graph(graph)\n",
    "        self._graph = graph\n",
    "        self._nodes = [node for node in self._graph.nodes()]\n",
    "        self._labels = nx.get_node_attributes(self._graph, \"class\")\n",
    "        random.seed(self.seed)\n",
    "        for _ in range(self.iterations):\n",
    "            self._do_a_propagation()\n",
    "\n",
    "    def get_memberships(self) -> Dict[int, int]:\n",
    "        r\"\"\"Getting the cluster membership of nodes.\n",
    "        Return types:\n",
    "            * **memberships** *(dict)* - Node cluster memberships.\n",
    "        \"\"\"\n",
    "        memberships = self._labels\n",
    "        return memberships"
   ]
  },
  {
   "cell_type": "code",
   "execution_count": 3,
   "metadata": {},
   "outputs": [],
   "source": [
    "def k_nearest_graph(embed, original_graph, k=5):\n",
    "    \"\"\"\"\n",
    "    Construct a graph from an embedding using the k-nearest graph algorithm\n",
    "    embed: embedding\n",
    "    original_graph: needed for preserving node attributes\n",
    "    k: nearest k neighbors to a point in the embedding space are used fix edges in the returned graph\n",
    "    \"\"\"\n",
    "    # create new graph based on original nodes and attributes\n",
    "    k_nearest_graph = nx.Graph()\n",
    "    k_nearest_graph.add_nodes_from(original_graph)\n",
    "    nx.set_node_attributes(k_nearest_graph, nx.get_node_attributes(original_graph, \"class\"),  \"class\")\n",
    "    # find the k nearest neighbors for each node and add between the node and these neighbors\n",
    "    # edges in the new graph \n",
    "    nbrs = NearestNeighbors(n_neighbors=k, algorithm='ball_tree').fit(embed)\n",
    "    _, indices = nbrs.kneighbors(embed)\n",
    "    k_nearest_links = [[i[0], j] for i in indices for j in i[1:]]\n",
    "    k_nearest_graph.add_edges_from(k_nearest_links)\n",
    "    return k_nearest_graph"
   ]
  },
  {
   "cell_type": "code",
   "execution_count": 23,
   "metadata": {},
   "outputs": [
    {
     "name": "stdout",
     "output_type": "stream",
     "text": [
      "#nodes: 500, #edges (bidirectional): 1834\n",
      "shape embedding: (500, 128)\n",
      "Counts of attributes[(1, 181), (0, 69), (628, 1), (533, 1), (660, 1), (644, 1), (667, 1), (738, 1), (563, 1), (622, 1), (746, 1), (687, 1), (524, 1), (681, 1), (698, 1), (525, 1), (536, 1), (650, 1), (639, 1), (600, 1), (501, 1), (715, 1), (623, 1), (664, 1), (538, 1), (571, 1), (721, 1), (540, 1), (558, 1), (503, 1), (745, 1), (648, 1), (577, 1), (626, 1), (611, 1), (633, 1), (521, 1), (700, 1), (619, 1), (526, 1), (733, 1), (520, 1), (601, 1), (617, 1), (670, 1), (638, 1), (523, 1), (630, 1), (620, 1), (690, 1), (549, 1), (722, 1), (685, 1), (530, 1), (654, 1), (705, 1), (645, 1), (665, 1), (553, 1), (731, 1), (595, 1), (597, 1), (652, 1), (691, 1), (735, 1), (578, 1), (673, 1), (637, 1), (609, 1), (747, 1), (716, 1), (748, 1), (607, 1), (505, 1), (713, 1), (568, 1), (671, 1), (542, 1), (719, 1), (567, 1), (564, 1), (513, 1), (699, 1), (742, 1), (541, 1), (634, 1), (668, 1), (625, 1), (675, 1), (686, 1), (556, 1), (581, 1), (651, 1), (646, 1), (570, 1), (585, 1), (729, 1), (504, 1), (559, 1), (599, 1), (640, 1), (615, 1), (511, 1), (499, 1), (728, 1), (518, 1), (657, 1), (692, 1), (561, 1), (591, 1), (655, 1), (579, 1), (718, 1), (736, 1), (741, 1), (710, 1), (712, 1), (588, 1), (636, 1), (672, 1), (560, 1), (684, 1), (676, 1), (547, 1), (658, 1), (711, 1), (529, 1), (573, 1), (506, 1), (702, 1), (562, 1), (612, 1), (744, 1), (576, 1), (605, 1), (502, 1), (587, 1), (602, 1), (545, 1), (666, 1), (613, 1), (689, 1), (679, 1), (594, 1), (546, 1), (516, 1), (629, 1), (643, 1), (510, 1), (551, 1), (707, 1), (683, 1), (586, 1), (656, 1), (548, 1), (674, 1), (517, 1), (515, 1), (566, 1), (589, 1), (743, 1), (659, 1), (508, 1), (727, 1), (550, 1), (554, 1), (726, 1), (512, 1), (522, 1), (701, 1), (642, 1), (653, 1), (614, 1), (519, 1), (734, 1), (706, 1), (534, 1), (618, 1), (592, 1), (661, 1), (608, 1), (704, 1), (593, 1), (565, 1), (616, 1), (552, 1), (583, 1), (732, 1), (543, 1), (737, 1), (724, 1), (647, 1), (582, 1), (709, 1), (703, 1), (730, 1), (555, 1), (695, 1), (669, 1), (537, 1), (641, 1), (649, 1), (663, 1), (632, 1), (680, 1), (569, 1), (688, 1), (604, 1), (725, 1), (500, 1), (574, 1), (539, 1), (662, 1), (514, 1), (717, 1), (528, 1), (575, 1), (509, 1), (544, 1), (697, 1), (739, 1), (572, 1), (580, 1), (723, 1), (720, 1), (535, 1), (635, 1), (677, 1), (740, 1), (678, 1), (714, 1), (621, 1), (531, 1), (682, 1), (708, 1), (610, 1), (624, 1), (606, 1), (693, 1), (590, 1), (694, 1), (627, 1), (603, 1), (507, 1), (598, 1), (532, 1), (596, 1), (557, 1), (527, 1), (696, 1), (631, 1), (584, 1)]\n"
     ]
    }
   ],
   "source": [
    "# get graph from data\n",
    "graph_synth2 = embed_utils.data2graph(\"synth2\")\n",
    "print(f\"#nodes: {len(graph_synth2.nodes())}, #edges (bidirectional): {len(graph_synth2.edges())}\")\n",
    "\n",
    "# Split into train test\n",
    "train_nodes, test_nodes = train_test_split(list(graph_synth2.nodes()), train_size=.5)\n",
    "# Set labels of test nodes to other classes\n",
    "original_attributes = deepcopy(nx.get_node_attributes(graph_synth2, \"class\"))\n",
    "all_attributes = nx.get_node_attributes(graph_synth2, \"class\")\n",
    "i = max(all_attributes)\n",
    "for node in test_nodes:\n",
    "\n",
    "    all_attributes[node] = i\n",
    "    i += 1\n",
    "\n",
    "nx.set_node_attributes(graph_synth2, all_attributes, \"class\")\n",
    "\n",
    "# print(all_attributes)\n",
    "# print(nx.set_node_attributes(graph_synth2, all_attributes, \"class\"))\n",
    "# print(nx.get_node_attributes(graph_synth2, \"class\"))\n",
    "# get embedding from graph using DeepWalk\n",
    "embed_synth2_karateclub = embed_utils.graph2embed(graph_synth2)\n",
    "# embed_synth2_karateclub = embed_utils.load_embed(\"rice\", \"NC\", method=\"fairwalk\", implementation=\"singer\")\n",
    "print(f\"shape embedding: {embed_synth2_karateclub.shape}\")\n",
    "labels_list = list(nx.get_node_attributes(graph_synth2, \"class\").values())\n",
    "\n",
    "print(f\"Counts of attributes{Counter(labels_list).most_common()}\")\n",
    "# construct new graph from the embedding using k-nearest graph algorithm\n",
    "k_nearest_graph_synth2 = k_nearest_graph(embed_synth2_karateclub, graph_synth2)\n",
    "# # use label propagation on the new graph for classification\n",
    "lp = MyLabelPropagation(seed=None, iterations=7)\n",
    "# lp.fit(k_nearest_graph_synth2)\n",
    "lp.fit(graph_synth2)"
   ]
  },
  {
   "cell_type": "code",
   "execution_count": 24,
   "metadata": {},
   "outputs": [
    {
     "name": "stdout",
     "output_type": "stream",
     "text": [
      "Accuracy is 0.948\n"
     ]
    }
   ],
   "source": [
    "membs = lp.get_memberships()\n",
    "\n",
    "correct = 0\n",
    "total = len(test_nodes)\n",
    "for node in test_nodes:\n",
    "    t = membs[node]\n",
    "    y = original_attributes[node]\n",
    "\n",
    "    if y == t and t is not None:\n",
    "        correct += 1\n",
    "\n",
    "print(f\"Accuracy is {correct/total}\")"
   ]
  },
  {
   "cell_type": "code",
   "execution_count": null,
   "metadata": {},
   "outputs": [],
   "source": []
  }
 ],
 "metadata": {
  "kernelspec": {
   "display_name": "python38",
   "language": "python",
   "name": "python3"
  },
  "language_info": {
   "codemirror_mode": {
    "name": "ipython",
    "version": 3
   },
   "file_extension": ".py",
   "mimetype": "text/x-python",
   "name": "python",
   "nbconvert_exporter": "python",
   "pygments_lexer": "ipython3",
   "version": "3.8.5"
  },
  "orig_nbformat": 4,
  "vscode": {
   "interpreter": {
    "hash": "8949a930b94cb2d6142be8852a1ccaa69d4dc3b8865dcadf9a78733a73bf6340"
   }
  }
 },
 "nbformat": 4,
 "nbformat_minor": 2
}
