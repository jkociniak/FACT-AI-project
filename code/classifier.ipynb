{
 "cells": [
  {
   "attachments": {},
   "cell_type": "markdown",
   "metadata": {},
   "source": [
    "### What:\n",
    "\n",
    "Trying to get node classification with deepwalk+Label Propagation to work\n",
    "\n",
    "### TODO:\n",
    "\n",
    "- improve documentation/comments\n",
    "- add train and test split to actually test performance for classiying\n",
    "    - follow the authors code for the split. See main.py in the 'classifier' folder\n",
    "        - same splits and hyperparameters\n",
    "    - add code for LabelPropagation() to perform the task\n",
    "- compare Perozzis embeddings with karateclub\n",
    "    - make their shapes compatible"
   ]
  },
  {
   "cell_type": "code",
   "execution_count": 1,
   "metadata": {},
   "outputs": [
    {
     "name": "stderr",
     "output_type": "stream",
     "text": [
      "/home/job/miniconda3/envs/karate/lib/python3.10/site-packages/tqdm/auto.py:22: TqdmWarning: IProgress not found. Please update jupyter and ipywidgets. See https://ipywidgets.readthedocs.io/en/stable/user_install.html\n",
      "  from .autonotebook import tqdm as notebook_tqdm\n"
     ]
    }
   ],
   "source": [
    "import numpy as np\n",
    "import networkx as nx\n",
    "from karateclub import LabelPropagation\n",
    "from sklearn.neighbors import NearestNeighbors\n",
    "import embed_utils"
   ]
  },
  {
   "cell_type": "code",
   "execution_count": 2,
   "metadata": {},
   "outputs": [],
   "source": [
    "def k_nearest_graph(embed, original_graph, k=5):\n",
    "    \"\"\"\"\n",
    "    Construct a graph from an embedding using the k-nearest graph algorithm\n",
    "    embed: embedding\n",
    "    original_graph: needed for preserving node attributes\n",
    "    k: nearest k neighbors to a point in the embedding space are used fix edges in the returned graph\n",
    "    \"\"\"\n",
    "    # create new graph based on original nodes and attributes\n",
    "    k_nearest_graph = nx.Graph()\n",
    "    k_nearest_graph.add_nodes_from(original_graph)\n",
    "    nx.set_node_attributes(k_nearest_graph, nx.get_node_attributes(original_graph, \"class\"),  \"class\")\n",
    "    # find the k nearest neighbors for each node and add between the node and these neighbors\n",
    "    # edges in the new graph \n",
    "    nbrs = NearestNeighbors(n_neighbors=k, algorithm='ball_tree').fit(embed)\n",
    "    _, indices = nbrs.kneighbors(embed)\n",
    "    k_nearest_links = [[i[0], j] for i in indices for j in i[1:]]\n",
    "    k_nearest_graph.add_edges_from(k_nearest_links)\n",
    "    return k_nearest_graph"
   ]
  },
  {
   "cell_type": "code",
   "execution_count": 3,
   "metadata": {},
   "outputs": [
    {
     "name": "stdout",
     "output_type": "stream",
     "text": [
      "#nodes: 500, #edges (bidirectional): 1834\n",
      "shape embedding: (500, 128)\n",
      "#nodes with class 0: 150, #nodes with class 1: 350\n"
     ]
    }
   ],
   "source": [
    "# get graph from data\n",
    "graph_synth2 = embed_utils.data2graph(\"./data/synthetic_n500_Pred0.7_Phom0.025_Phet0.001\", \"class\")\n",
    "print(f\"#nodes: {len(graph_synth2.nodes())}, #edges (bidirectional): {len(graph_synth2.edges())}\")\n",
    "# get embedding from graph using DeepWalk\n",
    "embed_synth2_karateclub = embed_utils.graph2embed(graph_synth2)\n",
    "print(f\"shape embedding: {embed_synth2_karateclub.shape}\")\n",
    "labels_list = list(nx.get_node_attributes(graph_synth2, \"class\").values())\n",
    "n_class_1 = sum(labels_list)\n",
    "n_class_0 = len(labels_list) - n_class_1\n",
    "print(f\"#nodes with class 0: {n_class_0}, #nodes with class 1: {n_class_1}\")\n",
    "# construct new graph from the embedding using k-nearest graph algorithm\n",
    "k_nearest_graph_synth2 = k_nearest_graph(embed_synth2_karateclub, graph_synth2)\n",
    "# # use label propagation on the new graph for classification\n",
    "# lp = LabelPropagation()\n",
    "# lp.fit(k_nearest_graph_synth2)"
   ]
  }
 ],
 "metadata": {
  "kernelspec": {
   "display_name": "karate",
   "language": "python",
   "name": "python3"
  },
  "language_info": {
   "codemirror_mode": {
    "name": "ipython",
    "version": 3
   },
   "file_extension": ".py",
   "mimetype": "text/x-python",
   "name": "python",
   "nbconvert_exporter": "python",
   "pygments_lexer": "ipython3",
   "version": "3.10.8"
  },
  "orig_nbformat": 4,
  "vscode": {
   "interpreter": {
    "hash": "004704e42d79ced63795043d89add8ae96304b2a7499c0b7ffed044fe8a1d5bb"
   }
  }
 },
 "nbformat": 4,
 "nbformat_minor": 2
}
