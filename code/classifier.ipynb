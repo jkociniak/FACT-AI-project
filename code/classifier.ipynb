{
 "cells": [
  {
   "attachments": {},
   "cell_type": "markdown",
   "metadata": {},
   "source": [
    "### What:\n",
    "\n",
    "Trying to get node classification with deepwalk+Label Propagation to work\n",
    "\n",
    "### TODO:\n",
    "\n",
    "- improve documentation/comments\n",
    "- add train and test split to actually test performance for classiying\n",
    "    - follow the authors code for the split. See main.py in the 'classifier' folder\n",
    "        - same splits and hyperparameters\n",
    "    - add code for LabelPropagation() to perform the task\n",
    "- compare Perozzis embeddings with karateclub\n",
    "    - make their shapes compatible"
   ]
  },
  {
   "cell_type": "code",
   "execution_count": 1,
   "metadata": {},
   "outputs": [],
   "source": [
    "import numpy as np\n",
    "import networkx as nx\n",
    "from sklearn.semi_supervised import LabelPropagation\n",
    "from sklearn.metrics import pairwise_distances\n",
    "from sklearn.neighbors import NearestNeighbors\n",
    "import embed_utils\n",
    "from sklearn.model_selection import train_test_split\n",
    "from copy import deepcopy\n",
    "from collections import Counter"
   ]
  },
  {
   "cell_type": "code",
   "execution_count": 40,
   "metadata": {},
   "outputs": [
    {
     "name": "stdout",
     "output_type": "stream",
     "text": [
      "Accuracy c0: 0.509090909090909\n",
      "Accuracy c1: 0.5573770491803278\n",
      "Total accuracy: 0.49122807017543857\n",
      "Disparity: 0.0005828878311837439\n",
      "\n",
      "Counter training lables: [(1, 91), (0, 79)]\n",
      "Counter real lables: [(1, 94), (0, 77)]\n",
      "Counter prediction: [(1, 95), (0, 76)]\n",
      "\n"
     ]
    },
    {
     "data": {
      "text/plain": [
       "0.49122807017543857"
      ]
     },
     "execution_count": 40,
     "metadata": {},
     "output_type": "execute_result"
    }
   ],
   "source": [
    "def get_metrics(classifier, test_nodes, embeddings, label_dict):\n",
    "\n",
    "    test_node_embeddings = [emb for i, emb in enumerate(embeddings) if i in test_nodes]\n",
    "    test_node_labels = [label_dict[node] for node in test_nodes]\n",
    "    pred = classifier.predict(test_node_embeddings)\n",
    "    accuracy = sum(test_node_labels == pred) / len(test_node_labels)\n",
    "    \n",
    "    return accuracy\n",
    "\n",
    "\n",
    "def check_classification_params(nodes, labels, embeddings):\n",
    "    assert nodes == list(range(len(nodes)))\n",
    "    assert len(labels) == len(nodes) == len(embeddings), f\"{len(labels)}, {len(nodes)}, {len(embeddings)}\"\n",
    "\n",
    "\n",
    "def make_classification_model(nodes, labels, embeddings):\n",
    "    \"\"\"\n",
    "    Makes the classification model\n",
    "    :param nodes: should be the nodes as list of consecutive integers\n",
    "    :param labels: should be a list of labels where a value of -1\n",
    "        indicates a missing label\n",
    "    :param embeddings: is the embeddings of all nodes obtained using a\n",
    "        (modified) random walk\n",
    "\n",
    "    :returns: a model with a predict() function that predicts the label\n",
    "        from embeddings\n",
    "    \"\"\"\n",
    "    check_classification_params(nodes, labels, embeddings)\n",
    "\n",
    "    g = np.mean(pairwise_distances(embeddings))\n",
    "    clf = LabelPropagation(gamma = g).fit(embeddings, labels)\n",
    "\n",
    "    return clf\n",
    "\n",
    "\n",
    "def run_classification(dataset, method):\n",
    "\n",
    "    # get graph from data\n",
    "    graph = embed_utils.data2graph(dataset)\n",
    "\n",
    "    # Get labels and attributes of test nodes to other classes\n",
    "    label_dict = deepcopy(nx.get_node_attributes(graph, embed_utils.CLASS_NAME))\n",
    "    attr_dict = deepcopy(nx.get_node_attributes(graph, embed_utils.SENSATTR))\n",
    "\n",
    "    # get embedding from graph\n",
    "    embeddings = embed_utils.graph2embed(\n",
    "                                        graph, \n",
    "                                        \"crosswalk\", \n",
    "                                        method\n",
    "                                        )\n",
    "    \n",
    "    # Split in to equal sized train and test nodes\n",
    "    nodes = list(graph.nodes())\n",
    "    shuffled_nodes = list(graph.nodes())\n",
    "    np.random.shuffle(shuffled_nodes)\n",
    "    split_idx = len(shuffled_nodes) // 2\n",
    "    train_nodes, test_nodes = shuffled_nodes[:split_idx], shuffled_nodes[split_idx:]\n",
    "\n",
    "    # Get semi-supervised labels\n",
    "    semi_supervised_y = [label_dict[node] if node in train_nodes else -1 for node in nodes]\n",
    "\n",
    "    # Train the classifier\n",
    "    clf = make_classification_model(nodes, semi_supervised_y, embeddings)\n",
    "\n",
    "    # Get test node embeddings, labels and find accuracy on test nodes\n",
    "    c0_nodes = [node for node in test_nodes if attr_dict[node] == 0]\n",
    "    acc_c0 = get_metrics(clf, c0_nodes, embeddings, label_dict)\n",
    "\n",
    "    c1_nodes = [node for node in test_nodes if attr_dict[node] == 1]\n",
    "    acc_c1 = get_metrics(clf, c1_nodes, embeddings, label_dict)\n",
    "\n",
    "    accuracy = get_metrics(clf, test_nodes, embeddings, label_dict)\n",
    "    \n",
    "    print(f\"Accuracy c0: {acc_c0}\")\n",
    "    print(f\"Accuracy c1: {acc_c1}\")\n",
    "    print(f\"Total accuracy: {accuracy}\")\n",
    "    print(f\"Disparity: {np.var([acc_c0, acc_c1])}\")\n",
    "    print()\n",
    "    print(f\"Counter training lables: {Counter([label_dict[node] for node in train_nodes]).most_common(3)}\")\n",
    "    print(f\"Counter real lables: {Counter([label_dict[node] for node in test_nodes]).most_common(3)}\")\n",
    "    print(\n",
    "        f\"Counter prediction: {Counter(clf.predict([emb for i, emb in enumerate(embeddings) if i in test_nodes])).most_common(3)}\"\n",
    "        )\n",
    "    print()\n",
    "\n",
    "    return accuracy\n",
    "\n",
    "n = 1\n",
    "accs = []\n",
    "for i in range(n):\n",
    "    acc = run_classification(dataset=\"stanford\", method=\"node2vec\")\n",
    "    accs.append(acc)\n",
    "\n",
    "np.mean(accs)"
   ]
  },
  {
   "cell_type": "code",
   "execution_count": null,
   "metadata": {},
   "outputs": [],
   "source": []
  },
  {
   "cell_type": "code",
   "execution_count": null,
   "metadata": {},
   "outputs": [],
   "source": []
  },
  {
   "cell_type": "code",
   "execution_count": null,
   "metadata": {},
   "outputs": [],
   "source": []
  },
  {
   "cell_type": "code",
   "execution_count": null,
   "metadata": {},
   "outputs": [
    {
     "ename": "NameError",
     "evalue": "name 'test_nodes' is not defined",
     "output_type": "error",
     "traceback": [
      "\u001b[0;31m---------------------------------------------------------------------------\u001b[0m",
      "\u001b[0;31mNameError\u001b[0m                                 Traceback (most recent call last)",
      "Cell \u001b[0;32mIn[5], line 13\u001b[0m\n\u001b[1;32m      9\u001b[0m             correct \u001b[39m+\u001b[39m\u001b[39m=\u001b[39m \u001b[39m1\u001b[39m\n\u001b[1;32m     11\u001b[0m     \u001b[39mreturn\u001b[39;00m correct\u001b[39m/\u001b[39mtotal\n\u001b[0;32m---> 13\u001b[0m nodes_c0 \u001b[39m=\u001b[39m [node \u001b[39mfor\u001b[39;00m node \u001b[39min\u001b[39;00m test_nodes \u001b[39mif\u001b[39;00m original_attributes[node] \u001b[39m==\u001b[39m \u001b[39m0\u001b[39m]\n\u001b[1;32m     14\u001b[0m acc_c0 \u001b[39m=\u001b[39m get_accuracy(nodes_c0, lp\u001b[39m.\u001b[39mget_memberships(), original_attributes)\n\u001b[1;32m     16\u001b[0m nodes_c1 \u001b[39m=\u001b[39m [node \u001b[39mfor\u001b[39;00m node \u001b[39min\u001b[39;00m test_nodes \u001b[39mif\u001b[39;00m original_attributes[node] \u001b[39m==\u001b[39m \u001b[39m1\u001b[39m]\n",
      "\u001b[0;31mNameError\u001b[0m: name 'test_nodes' is not defined"
     ]
    }
   ],
   "source": [
    "def get_accuracy(target_nodes, predicted_attributes, target_attributes):\n",
    "    correct = 0\n",
    "    total = len(target_nodes)\n",
    "    for node in target_nodes:\n",
    "        t = predicted_attributes[node]\n",
    "        y = target_attributes[node]\n",
    "\n",
    "        if y == t and t is not None:\n",
    "            correct += 1\n",
    "\n",
    "    return correct/total\n",
    "\n",
    "nodes_c0 = [node for node in test_nodes if original_attributes[node] == 0]\n",
    "acc_c0 = get_accuracy(nodes_c0, lp.get_memberships(), original_attributes)\n",
    "\n",
    "nodes_c1 = [node for node in test_nodes if original_attributes[node] == 1]\n",
    "acc_c1 = get_accuracy(nodes_c1, lp.get_memberships(), original_attributes)\n",
    "\n",
    "print(f\"Test nodes in c=0: {len(nodes_c0)}, Test nodes in c=1: {len(nodes_c1)}\")\n",
    "print(\"Number of nodes predicted in c0 and c1:\", len([n for n in lp.get_memberships()if n == 0]), len([n for n in lp.get_memberships() if n == 1]))\n",
    "print(\"Most common labels in predictions:\", Counter(list(lp.get_memberships().values())).most_common(3))\n",
    "print(acc_c0*100, acc_c1*100)\n",
    "np.var([acc_c0*100, acc_c1*100])"
   ]
  },
  {
   "cell_type": "code",
   "execution_count": null,
   "metadata": {},
   "outputs": [],
   "source": []
  },
  {
   "cell_type": "code",
   "execution_count": null,
   "metadata": {},
   "outputs": [],
   "source": []
  }
 ],
 "metadata": {
  "kernelspec": {
   "display_name": "python38",
   "language": "python",
   "name": "python3"
  },
  "language_info": {
   "codemirror_mode": {
    "name": "ipython",
    "version": 3
   },
   "file_extension": ".py",
   "mimetype": "text/x-python",
   "name": "python",
   "nbconvert_exporter": "python",
   "pygments_lexer": "ipython3",
   "version": "3.8.5"
  },
  "orig_nbformat": 4,
  "vscode": {
   "interpreter": {
    "hash": "8949a930b94cb2d6142be8852a1ccaa69d4dc3b8865dcadf9a78733a73bf6340"
   }
  }
 },
 "nbformat": 4,
 "nbformat_minor": 2
}
