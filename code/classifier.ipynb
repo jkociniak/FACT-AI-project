{
 "cells": [
  {
   "attachments": {},
   "cell_type": "markdown",
   "metadata": {},
   "source": [
    "### What:\n",
    "\n",
    "Trying to get node classification with deepwalk+Label Propagation to work\n",
    "\n",
    "### TODO:\n",
    "\n",
    "- improve documentation/comments\n",
    "- add train and test split to actually test performance for classiying\n",
    "    - follow the authors code for the split. See main.py in the 'classifier' folder\n",
    "        - same splits and hyperparameters\n",
    "    - add code for LabelPropagation() to perform the task\n",
    "- compare Perozzis embeddings with karateclub\n",
    "    - make their shapes compatible"
   ]
  },
  {
   "cell_type": "code",
   "execution_count": 1,
   "metadata": {},
   "outputs": [],
   "source": [
    "import numpy as np\n",
    "import networkx as nx\n",
    "from sklearn.semi_supervised import LabelPropagation\n",
    "from sklearn.metrics import pairwise_distances\n",
    "from sklearn.neighbors import NearestNeighbors\n",
    "import embed_utils\n",
    "from sklearn.model_selection import train_test_split\n",
    "from copy import deepcopy\n",
    "from collections import Counter"
   ]
  },
  {
   "cell_type": "code",
   "execution_count": 7,
   "metadata": {},
   "outputs": [
    {
     "name": "stdout",
     "output_type": "stream",
     "text": [
      "[0, 1, 2, 3, 4, 5, 6, 7, 8, 9, 10, 11, 12, 13, 14, 15, 16, 17, 18, 19, 20, 21, 22, 23, 24, 25, 26, 27, 28, 29, 30, 31, 32, 33, 34, 35, 36, 37, 38, 39, 40, 41, 42, 43, 44, 45, 46, 47, 48, 49, 50, 51, 52, 53, 54, 55, 56, 57, 58, 59, 60, 61, 62, 63, 64, 65, 66, 67, 68, 69, 70, 71, 72, 73, 74, 75, 76, 77, 78, 79, 80, 81, 82, 83, 84, 85, 86, 87, 88, 89, 90, 91, 92, 93, 94, 95, 96, 97, 98, 99, 100, 101, 102, 103, 104, 105, 106, 107, 108, 109, 110, 111, 112, 113, 114, 115, 116, 117, 118, 119, 120, 121, 122, 123, 124, 125, 126, 127, 128, 129, 130, 131, 132, 133, 134, 135, 136, 137, 138, 139, 140, 141, 142, 143, 144, 145, 146, 147, 148, 149, 150, 151, 152, 153, 154, 155, 156, 157, 158, 159, 160, 161, 162, 163, 164, 165, 166, 167, 168, 169, 170, 171, 172, 173, 174, 175, 176, 177, 178, 179, 180, 181, 182, 183, 184, 185, 186, 187, 188, 189, 190, 191, 192, 193, 194, 195, 196, 197, 198, 199, 200, 201, 202, 203, 204, 205, 206, 207, 208, 209, 210, 211, 212, 213, 214, 215, 216, 217, 218, 219, 220, 221, 222, 223, 224, 225, 226, 227, 228, 229, 230, 231, 232, 233, 234, 235, 236, 237, 238, 239, 240, 241, 242, 243, 244, 245, 246, 247, 248, 249, 250, 251, 252, 253, 254, 255, 256, 257, 258, 259, 260, 261, 262, 263, 264, 265, 266, 267, 268, 269, 270, 271, 272, 273, 274, 275, 276, 277, 278, 279, 280, 281, 282, 283, 284, 285, 286, 287, 288, 289, 290, 291, 292, 293, 294, 295, 296, 297, 298, 299, 300, 301, 302, 303, 304, 305, 306, 307, 308, 309, 310, 311, 312, 313, 314, 315, 316, 317, 318, 319, 320, 321, 322, 323, 324, 325, 326, 327, 328, 329, 330, 331, 332, 333, 334, 335, 336, 337, 338, 339, 340, 341, 342, 343, 344, 345, 346, 347, 348, 349, 350, 351, 352, 353, 354, 355, 356, 357, 358, 359, 360, 361, 362, 363, 364, 365, 366, 367, 368, 369, 370, 371, 372, 373, 374, 375, 376, 377, 378, 379, 380, 381, 382, 383, 384, 385, 386, 387, 388, 389, 390, 391, 392, 393, 394, 395, 396, 397, 398, 399, 400, 401, 402, 403, 404, 405, 406, 407, 408, 409, 410, 411, 412, 413, 414, 415, 416, 417, 418, 419, 420, 421, 422, 423, 424, 425, 426, 427, 428, 429, 430, 431, 432, 433, 434, 435, 436, 437, 438, 439, 440, 441, 442, 443, 444]\n"
     ]
    },
    {
     "ename": "KeyError",
     "evalue": "0",
     "output_type": "error",
     "traceback": [
      "\u001b[0;31m---------------------------------------------------------------------------\u001b[0m",
      "\u001b[0;31mKeyError\u001b[0m                                  Traceback (most recent call last)",
      "Cell \u001b[0;32mIn[7], line 100\u001b[0m\n\u001b[1;32m     98\u001b[0m accs \u001b[39m=\u001b[39m []\n\u001b[1;32m     99\u001b[0m \u001b[39mfor\u001b[39;00m i \u001b[39min\u001b[39;00m \u001b[39mrange\u001b[39m(n):\n\u001b[0;32m--> 100\u001b[0m     acc \u001b[39m=\u001b[39m run_classification(dataset\u001b[39m=\u001b[39;49m\u001b[39m\"\u001b[39;49m\u001b[39mrice\u001b[39;49m\u001b[39m\"\u001b[39;49m, method\u001b[39m=\u001b[39;49m\u001b[39m\"\u001b[39;49m\u001b[39mnode2vec\u001b[39;49m\u001b[39m\"\u001b[39;49m)\n\u001b[1;32m    101\u001b[0m     accs\u001b[39m.\u001b[39mappend(acc)\n\u001b[1;32m    103\u001b[0m np\u001b[39m.\u001b[39mmean(accs)\n",
      "Cell \u001b[0;32mIn[7], line 65\u001b[0m, in \u001b[0;36mrun_classification\u001b[0;34m(dataset, method)\u001b[0m\n\u001b[1;32m     63\u001b[0m \u001b[39m# Get semi-supervised labels\u001b[39;00m\n\u001b[1;32m     64\u001b[0m \u001b[39mprint\u001b[39m(nodes)\n\u001b[0;32m---> 65\u001b[0m semi_supervised_y \u001b[39m=\u001b[39m [label_dict[node] \u001b[39mif\u001b[39;00m node \u001b[39min\u001b[39;00m train_nodes \u001b[39melse\u001b[39;00m \u001b[39m-\u001b[39m\u001b[39m1\u001b[39m \u001b[39mfor\u001b[39;00m node \u001b[39min\u001b[39;00m nodes]\n\u001b[1;32m     67\u001b[0m \u001b[39m# Train the classifier\u001b[39;00m\n\u001b[1;32m     68\u001b[0m clf \u001b[39m=\u001b[39m make_classification_model(nodes, semi_supervised_y, embeddings)\n",
      "Cell \u001b[0;32mIn[7], line 65\u001b[0m, in \u001b[0;36m<listcomp>\u001b[0;34m(.0)\u001b[0m\n\u001b[1;32m     63\u001b[0m \u001b[39m# Get semi-supervised labels\u001b[39;00m\n\u001b[1;32m     64\u001b[0m \u001b[39mprint\u001b[39m(nodes)\n\u001b[0;32m---> 65\u001b[0m semi_supervised_y \u001b[39m=\u001b[39m [label_dict[node] \u001b[39mif\u001b[39;00m node \u001b[39min\u001b[39;00m train_nodes \u001b[39melse\u001b[39;00m \u001b[39m-\u001b[39m\u001b[39m1\u001b[39m \u001b[39mfor\u001b[39;00m node \u001b[39min\u001b[39;00m nodes]\n\u001b[1;32m     67\u001b[0m \u001b[39m# Train the classifier\u001b[39;00m\n\u001b[1;32m     68\u001b[0m clf \u001b[39m=\u001b[39m make_classification_model(nodes, semi_supervised_y, embeddings)\n",
      "\u001b[0;31mKeyError\u001b[0m: 0"
     ]
    }
   ],
   "source": [
    "def get_metrics(classifier, test_nodes, embeddings, label_dict):\n",
    "\n",
    "    test_node_embeddings = [emb for i, emb in enumerate(embeddings) if i in test_nodes]\n",
    "    test_node_labels = [label_dict[node] for node in test_nodes]\n",
    "    pred = classifier.predict(test_node_embeddings)\n",
    "    accuracy = sum(test_node_labels == pred) / len(test_node_labels)\n",
    "    \n",
    "    return accuracy\n",
    "\n",
    "\n",
    "def check_classification_params(nodes, labels, embeddings):\n",
    "    assert nodes == list(range(len(nodes)))\n",
    "    assert len(labels) == len(nodes) == len(embeddings), f\"{len(labels)}, {len(nodes)}, {len(embeddings)}\"\n",
    "\n",
    "\n",
    "def make_classification_model(nodes, labels, embeddings):\n",
    "    \"\"\"\n",
    "    Makes the classification model\n",
    "    :param nodes: should be the nodes as list of consecutive integers\n",
    "    :param labels: should be a list of labels where a value of -1\n",
    "        indicates a missing label\n",
    "    :param embeddings: is the embeddings of all nodes obtained using a\n",
    "        (modified) random walk\n",
    "\n",
    "    :returns: a model with a predict() function that predicts the label\n",
    "        from embeddings\n",
    "    \"\"\"\n",
    "    check_classification_params(nodes, labels, embeddings)\n",
    "\n",
    "    g = np.mean(pairwise_distances(embeddings))\n",
    "    clf = LabelPropagation(gamma = g).fit(embeddings, labels)\n",
    "\n",
    "    return clf\n",
    "\n",
    "\n",
    "def run_classification(dataset, method):\n",
    "\n",
    "    # get graph from data\n",
    "    graph = embed_utils.data2graph(dataset)\n",
    "\n",
    "    # Get labels and attributes of test nodes to other classes\n",
    "    label_dict = deepcopy(nx.get_node_attributes(graph, embed_utils.CLASS_NAME))\n",
    "    attr_dict = deepcopy(nx.get_node_attributes(graph, embed_utils.SENSATTR))\n",
    "\n",
    "    has_attr = True\n",
    "    if label_dict == {}:\n",
    "        label_dict = attr_dict\n",
    "        has_attr = False\n",
    "\n",
    "    # get embedding from graph\n",
    "    embeddings = embed_utils.graph2embed(\n",
    "                                        graph, \n",
    "                                        \"crosswalk\", \n",
    "                                        method\n",
    "                                        )\n",
    "    \n",
    "    # Split in to equal sized train and test nodes\n",
    "    nodes = list(graph.nodes())\n",
    "    shuffled_nodes = list(graph.nodes())\n",
    "    np.random.shuffle(shuffled_nodes)\n",
    "    split_idx = len(shuffled_nodes) // 2\n",
    "    train_nodes, test_nodes = shuffled_nodes[:split_idx], shuffled_nodes[split_idx:]\n",
    "\n",
    "    # Get semi-supervised labels\n",
    "    print(nodes)\n",
    "    semi_supervised_y = [label_dict[node] if node in train_nodes else -1 for node in nodes]\n",
    "\n",
    "    # Train the classifier\n",
    "    clf = make_classification_model(nodes, semi_supervised_y, embeddings)\n",
    "\n",
    "    # Get test node embeddings, labels and find accuracy on test nodes\n",
    "    if has_attr: \n",
    "        c0_nodes = [node for node in test_nodes if attr_dict[node] == 0]\n",
    "        acc_c0 = get_metrics(clf, c0_nodes, embeddings, label_dict) * 100\n",
    "\n",
    "        c1_nodes = [node for node in test_nodes if attr_dict[node] == 1]\n",
    "        acc_c1 = get_metrics(clf, c1_nodes, embeddings, label_dict) * 100\n",
    "\n",
    "    accuracy = get_metrics(clf, test_nodes, embeddings, label_dict) * 100\n",
    "    \n",
    "    if has_attr:\n",
    "        print(f\"Accuracy c0: {acc_c0}\")\n",
    "        print(f\"Accuracy c1: {acc_c1}\")\n",
    "        print(f\"Disparity: {np.var([acc_c0, acc_c1])}\") \n",
    "        print()\n",
    "\n",
    "    print(f\"Total accuracy: {accuracy}\")\n",
    "    print()\n",
    "    print(f\"Counter training lables: {Counter([label_dict[node] for node in train_nodes]).most_common(3)}\")\n",
    "    print(f\"Counter real lables: {Counter([label_dict[node] for node in test_nodes]).most_common(3)}\")\n",
    "    print(\n",
    "        f\"Counter prediction: {Counter(clf.predict([emb for i, emb in enumerate(embeddings) if i in test_nodes])).most_common(3)}\"\n",
    "        )\n",
    "    print()\n",
    "\n",
    "    return accuracy\n",
    "\n",
    "n = 1\n",
    "accs = []\n",
    "for i in range(n):\n",
    "    acc = run_classification(dataset=\"rice\", method=\"node2vec\")\n",
    "    accs.append(acc)\n",
    "\n",
    "np.mean(accs)"
   ]
  },
  {
   "cell_type": "code",
   "execution_count": null,
   "metadata": {},
   "outputs": [],
   "source": []
  },
  {
   "cell_type": "code",
   "execution_count": null,
   "metadata": {},
   "outputs": [],
   "source": []
  },
  {
   "cell_type": "code",
   "execution_count": null,
   "metadata": {},
   "outputs": [],
   "source": []
  },
  {
   "cell_type": "code",
   "execution_count": null,
   "metadata": {},
   "outputs": [],
   "source": []
  },
  {
   "cell_type": "code",
   "execution_count": null,
   "metadata": {},
   "outputs": [],
   "source": []
  }
 ],
 "metadata": {
  "kernelspec": {
   "display_name": "python38",
   "language": "python",
   "name": "python3"
  },
  "language_info": {
   "codemirror_mode": {
    "name": "ipython",
    "version": 3
   },
   "file_extension": ".py",
   "mimetype": "text/x-python",
   "name": "python",
   "nbconvert_exporter": "python",
   "pygments_lexer": "ipython3",
   "version": "3.8.5"
  },
  "orig_nbformat": 4,
  "vscode": {
   "interpreter": {
    "hash": "8949a930b94cb2d6142be8852a1ccaa69d4dc3b8865dcadf9a78733a73bf6340"
   }
  }
 },
 "nbformat": 4,
 "nbformat_minor": 2
}
