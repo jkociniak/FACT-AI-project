{
 "cells": [
  {
   "cell_type": "code",
   "execution_count": 31,
   "metadata": {},
   "outputs": [
    {
     "ename": "NameError",
     "evalue": "name 'disparity_means_autaccuracy_means_auth' is not defined",
     "output_type": "error",
     "traceback": [
      "\u001b[0;31m---------------------------------------------------------------------------\u001b[0m",
      "\u001b[0;31mNameError\u001b[0m                                 Traceback (most recent call last)",
      "\u001b[1;32m/Users/lngouateu/Desktop/CrossWalk for FACT/FACT-AI-project/code/link_prediction_barplots.ipynb Cell 1'\u001b[0m in \u001b[0;36m<cell line: 19>\u001b[0;34m()\u001b[0m\n\u001b[1;32m     <a href='vscode-notebook-cell:/Users/lngouateu/Desktop/CrossWalk%20for%20FACT/FACT-AI-project/code/link_prediction_barplots.ipynb#ch0000000?line=16'>17</a>\u001b[0m fig, ax \u001b[39m=\u001b[39m plt\u001b[39m.\u001b[39msubplots()\n\u001b[1;32m     <a href='vscode-notebook-cell:/Users/lngouateu/Desktop/CrossWalk%20for%20FACT/FACT-AI-project/code/link_prediction_barplots.ipynb#ch0000000?line=17'>18</a>\u001b[0m bars1 \u001b[39m=\u001b[39m ax\u001b[39m.\u001b[39mbar(x \u001b[39m-\u001b[39m width\u001b[39m*\u001b[39m\u001b[39m1.5\u001b[39m, accuracy_means_auth, width, label\u001b[39m=\u001b[39m\u001b[39m'\u001b[39m\u001b[39mTotal Accuracy Author\u001b[39m\u001b[39m\\'\u001b[39;00m\u001b[39ms\u001b[39m\u001b[39m'\u001b[39m, color\u001b[39m=\u001b[39mpurple_)\n\u001b[0;32m---> <a href='vscode-notebook-cell:/Users/lngouateu/Desktop/CrossWalk%20for%20FACT/FACT-AI-project/code/link_prediction_barplots.ipynb#ch0000000?line=18'>19</a>\u001b[0m bars2 \u001b[39m=\u001b[39m ax\u001b[39m.\u001b[39mbar(x \u001b[39m-\u001b[39m width\u001b[39m/\u001b[39m\u001b[39m2\u001b[39m, disparity_means_autaccuracy_means_auth, width, label\u001b[39m=\u001b[39m\u001b[39m'\u001b[39m\u001b[39mDisparity Author\u001b[39m\u001b[39m\\'\u001b[39;00m\u001b[39ms\u001b[39m\u001b[39m'\u001b[39m, color\u001b[39m=\u001b[39myellow_)\n\u001b[1;32m     <a href='vscode-notebook-cell:/Users/lngouateu/Desktop/CrossWalk%20for%20FACT/FACT-AI-project/code/link_prediction_barplots.ipynb#ch0000000?line=19'>20</a>\u001b[0m bars3 \u001b[39m=\u001b[39m ax\u001b[39m.\u001b[39mbar(x \u001b[39m+\u001b[39m width\u001b[39m/\u001b[39m\u001b[39m2\u001b[39m, accuracy_means_our, width, label\u001b[39m=\u001b[39m\u001b[39m'\u001b[39m\u001b[39mTotal Accuracy Reproduction\u001b[39m\u001b[39m'\u001b[39m, color\u001b[39m=\u001b[39m\u001b[39m\"\u001b[39m\u001b[39mblue\u001b[39m\u001b[39m\"\u001b[39m)\n\u001b[1;32m     <a href='vscode-notebook-cell:/Users/lngouateu/Desktop/CrossWalk%20for%20FACT/FACT-AI-project/code/link_prediction_barplots.ipynb#ch0000000?line=20'>21</a>\u001b[0m bars4 \u001b[39m=\u001b[39m ax\u001b[39m.\u001b[39mbar(x \u001b[39m+\u001b[39m width\u001b[39m*\u001b[39m\u001b[39m1.5\u001b[39m, disparity_means_our, width, label\u001b[39m=\u001b[39m\u001b[39m'\u001b[39m\u001b[39mDisparity Reproduction\u001b[39m\u001b[39m'\u001b[39m, color\u001b[39m=\u001b[39m\u001b[39m\"\u001b[39m\u001b[39morange\u001b[39m\u001b[39m\"\u001b[39m)\n",
      "\u001b[0;31mNameError\u001b[0m: name 'disparity_means_autaccuracy_means_auth' is not defined"
     ]
    },
    {
     "data": {
      "image/png": "[encoded data removed]",
      "text/plain": [
       "<Figure size 640x480 with 1 Axes>"
      ]
     },
     "metadata": {},
     "output_type": "display_data"
    }
   ],
   "source": [
    "import matplotlib.pyplot as plt\n",
    "import numpy as np\n",
    "\n",
    "purple_ = '#BF55EC'\n",
    "yellow_ = '#F7CA18'\n",
    "\n",
    "labels = ['DeepWalk', 'CrossWalk', 'Deepwalk']\n",
    "accuracy_means_auth = [80, 85, 70]\n",
    "disparity_means_auth = [25, 32, 34]\n",
    "\n",
    "accuracy_means_our = [84, 83, 65]\n",
    "disparity_means_our = [30, 34, 33]\n",
    "\n",
    "x = np.array([2, 5.5, 9]) # the label locations\n",
    "width = 0.35  # the width of the bars\n",
    "\n",
    "fig, ax = plt.subplots()\n",
    "bars1 = ax.bar(x - width*1.5, accuracy_means_auth, width, label='Total Accuracy Author\\'s', color=purple_)\n",
    "bars2 = ax.bar(x - width/2, disparity_means_auth, width, label='Disparity Author\\'s', color=yellow_)\n",
    "bars3 = ax.bar(x + width/2, accuracy_means_our, width, label='Total Accuracy Reproduction', color=\"blue\")\n",
    "bars4 = ax.bar(x + width*1.5, disparity_means_our, width, label='Disparity Reproduction', color=\"orange\")\n",
    "\n",
    "# Add some text for labels, title and custom x-axis tick labels, etc.\n",
    "ax.set_ylabel('Accuracy')\n",
    "ax.set_title('Rice-Facebook Dataset')\n",
    "ax.set_xticks(x, labels)\n",
    "ax.legend()\n",
    "\n",
    "ax.bar_label(bars1, padding=3)\n",
    "ax.bar_label(bars2, padding=3)\n",
    "\n",
    "ax.bar_label(bars3, padding=3)\n",
    "ax.bar_label(bars4, padding=3)\n",
    "\n",
    "fig.tight_layout()\n",
    "\n",
    "plt.show()"
   ]
  },
  {
   "cell_type": "code",
   "execution_count": null,
   "metadata": {},
   "outputs": [],
   "source": []
  }
 ],
 "metadata": {
  "interpreter": {
   "hash": "e2931b7edaea676c8ec7e95c2c230755d0c168dd1cbed5a24cb7c24f6acd3ad9"
  },
  "kernelspec": {
   "display_name": "Python 3.9.5 ('ml1labs')",
   "language": "python",
   "name": "python3"
  },
  "language_info": {
   "codemirror_mode": {
    "name": "ipython",
    "version": 3
   },
   "file_extension": ".py",
   "mimetype": "text/x-python",
   "name": "python",
   "nbconvert_exporter": "python",
   "pygments_lexer": "ipython3",
   "version": "3.9.5"
  },
  "orig_nbformat": 4
 },
 "nbformat": 4,
 "nbformat_minor": 2
}
